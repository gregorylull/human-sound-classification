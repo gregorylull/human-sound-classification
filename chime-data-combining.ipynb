{
 "cells": [
  {
   "cell_type": "code",
   "execution_count": null,
   "metadata": {},
   "outputs": [],
   "source": [
    "\"\"\"\n",
    "\n",
    "chime data is 4gb\n",
    "\n",
    "downloaded from \n",
    "\n",
    "\"\"\""
   ]
  },
  {
   "cell_type": "code",
   "execution_count": 111,
   "metadata": {
    "ExecuteTime": {
     "end_time": "2019-10-22T23:56:58.650864Z",
     "start_time": "2019-10-22T23:56:58.647990Z"
    }
   },
   "outputs": [],
   "source": [
    "import glob\n",
    "import pandas as pd\n",
    "import numpy as np\n",
    "import re\n",
    "import json\n",
    "import pickle\n",
    "\n",
    "from sklearn.preprocessing import StandardScaler\n",
    "from sklearn.decomposition import PCA\n",
    "from sklearn.linear_model import LogisticRegression\n",
    "\n",
    "\n"
   ]
  },
  {
   "cell_type": "code",
   "execution_count": 6,
   "metadata": {
    "ExecuteTime": {
     "end_time": "2019-10-22T22:26:35.748536Z",
     "start_time": "2019-10-22T22:26:35.745939Z"
    }
   },
   "outputs": [],
   "source": [
    "# constants\n",
    "data_folder = 'data/chime_home/'\n",
    "data_chunks = f'{data_folder}chunks/'"
   ]
  },
  {
   "cell_type": "code",
   "execution_count": 5,
   "metadata": {
    "ExecuteTime": {
     "end_time": "2019-10-21T22:11:50.551264Z",
     "start_time": "2019-10-21T22:11:50.548421Z"
    }
   },
   "outputs": [],
   "source": [
    "eval_dev_chunks = glob.glob('data/chime_home/*.csv')\n",
    "raw_chunks = glob.glob('data/chime_home/chunks/*.csv')\n",
    "\n",
    "files = {}\n",
    "for filename in eval_dev_chunks:\n",
    "    files[filename.split('/')[-1]] = pd.read_csv(filename, header=None, names=['index', 'filename'])\n",
    "    \n",
    "dev_ref_df = files['development_chunks_refined.csv']\n",
    "dev_ref_df = dev_ref_df.drop(columns=['index'])"
   ]
  },
  {
   "cell_type": "code",
   "execution_count": 58,
   "metadata": {
    "ExecuteTime": {
     "end_time": "2019-10-21T23:39:57.465367Z",
     "start_time": "2019-10-21T23:39:53.366429Z"
    }
   },
   "outputs": [],
   "source": [
    "results = []\n",
    "for filename in dev_ref_df['filename']:\n",
    "    chunk_df = pd.read_csv(f'{data_chunks}{filename}.csv', header=None)\n",
    "    chunk_t = chunk_df.set_index(0).T\n",
    "    results.append(chunk_t)\n",
    "    \n",
    "concat_df = pd.concat(results)"
   ]
  },
  {
   "cell_type": "code",
   "execution_count": 66,
   "metadata": {
    "ExecuteTime": {
     "end_time": "2019-10-21T23:44:26.589279Z",
     "start_time": "2019-10-21T23:44:26.586216Z"
    }
   },
   "outputs": [
    {
     "ename": "SyntaxError",
     "evalue": "invalid syntax (<ipython-input-66-012550b79a61>, line 1)",
     "output_type": "error",
     "traceback": [
      "\u001b[0;36m  File \u001b[0;32m\"<ipython-input-66-012550b79a61>\"\u001b[0;36m, line \u001b[0;32m1\u001b[0m\n\u001b[0;31m    concat_df.\u001b[0m\n\u001b[0m              ^\u001b[0m\n\u001b[0;31mSyntaxError\u001b[0m\u001b[0;31m:\u001b[0m invalid syntax\n"
     ]
    }
   ],
   "source": [
    "human_voices_re = re.compile(r'[cmf]') # child male female\n",
    "concat_df['human_voice'] = concat_df['majorityvote'].apply(lambda x: 1 if human_voices_re.search(x) else 0)"
   ]
  },
  {
   "cell_type": "code",
   "execution_count": 90,
   "metadata": {
    "ExecuteTime": {
     "end_time": "2019-10-21T23:54:08.299797Z",
     "start_time": "2019-10-21T23:54:08.295817Z"
    }
   },
   "outputs": [
    {
     "data": {
      "text/plain": [
       "1    1314\n",
       "0     632\n",
       "Name: human_voice, dtype: int64"
      ]
     },
     "execution_count": 90,
     "metadata": {},
     "output_type": "execute_result"
    }
   ],
   "source": [
    "concat_df['human_voice'].value_counts()"
   ]
  },
  {
   "cell_type": "code",
   "execution_count": 7,
   "metadata": {
    "ExecuteTime": {
     "end_time": "2019-10-22T22:26:40.058735Z",
     "start_time": "2019-10-22T22:26:40.056597Z"
    }
   },
   "outputs": [],
   "source": [
    "dev_refined_concat_filename = 'development_chunks_refined_concat_df.pkl'\n"
   ]
  },
  {
   "cell_type": "code",
   "execution_count": 148,
   "metadata": {
    "ExecuteTime": {
     "end_time": "2019-10-22T19:01:42.755713Z",
     "start_time": "2019-10-22T19:01:42.403730Z"
    }
   },
   "outputs": [],
   "source": [
    "concat_df.to_pickle(f'{dev_refined_concat_filename}')"
   ]
  },
  {
   "cell_type": "code",
   "execution_count": 9,
   "metadata": {
    "ExecuteTime": {
     "end_time": "2019-10-22T22:26:53.804266Z",
     "start_time": "2019-10-22T22:26:53.798514Z"
    }
   },
   "outputs": [],
   "source": [
    "\n",
    "with open(f'{dev_refined_concat_filename}', 'rb') as readfile:\n",
    "    df = pickle.load(readfile)\n"
   ]
  },
  {
   "cell_type": "code",
   "execution_count": 37,
   "metadata": {
    "ExecuteTime": {
     "end_time": "2019-10-22T22:49:57.459762Z",
     "start_time": "2019-10-22T22:49:56.790391Z"
    }
   },
   "outputs": [],
   "source": [
    "# Feature extraction example\n",
    "import librosa\n",
    "\n",
    "# Load the example clip\n",
    "def extract_features(filename):\n",
    "    y, sr = librosa.load(f'{filename}')\n",
    "\n",
    "    # Set the hop length; at 22050 Hz, 512 samples ~= 23ms\n",
    "    hop_length = 512\n",
    "\n",
    "    # Separate harmonics and percussives into two waveforms\n",
    "    y_harmonic, y_percussive = librosa.effects.hpss(y)\n",
    "\n",
    "    # Beat track on the percussive signal\n",
    "    tempo, beat_frames = librosa.beat.beat_track(y=y_percussive,\n",
    "                                                 sr=sr)\n",
    "\n",
    "    # Compute MFCC features from the raw signal\n",
    "    mfcc = librosa.feature.mfcc(y=y, sr=sr, hop_length=hop_length, n_mfcc=13)\n",
    "\n",
    "    # And the first-order differences (delta features)\n",
    "    mfcc_delta = librosa.feature.delta(mfcc)\n",
    "\n",
    "    # Stack and synchronize between beat events\n",
    "    # This time, we'll use the mean value (default) instead of median\n",
    "    beat_mfcc_delta = librosa.util.sync(np.vstack([mfcc, mfcc_delta]),\n",
    "                                        beat_frames)\n",
    "\n",
    "    # Compute chroma features from the harmonic signal\n",
    "    chromagram = librosa.feature.chroma_cqt(y=y_harmonic,\n",
    "                                            sr=sr)\n",
    "\n",
    "    # Aggregate chroma features between beat events\n",
    "    # We'll use the median value of each feature between beat frames\n",
    "    beat_chroma = librosa.util.sync(chromagram,\n",
    "                                    beat_frames,\n",
    "                                    aggregate=np.median)\n",
    "\n",
    "    # Finally, stack all beat-synchronous features together\n",
    "    beat_features = np.vstack([beat_chroma, beat_mfcc_delta])\n",
    "    \n",
    "    return {\n",
    "        'mfcc': mfcc,\n",
    "        'mfcc_delta': mfcc_delta,\n",
    "        'beat_mfcc_delta': beat_mfcc_delta,\n",
    "        'chromagram': chromagram,\n",
    "        'beat_chroma': beat_chroma,\n",
    "        'beat_features': beat_features\n",
    "    }"
   ]
  },
  {
   "cell_type": "code",
   "execution_count": null,
   "metadata": {
    "ExecuteTime": {
     "end_time": "2019-10-22T22:49:22.060524Z",
     "start_time": "2019-10-22T22:49:19.641Z"
    }
   },
   "outputs": [],
   "source": [
    "def extract_features_df(df, column_name = 'chunkname'):\n",
    "    results = {}\n",
    "    total = df.shape[0]\n",
    "    count = 0\n",
    "    for index, row in df.iterrows():\n",
    "        print('what is left', (count/total) * 100, '%')\n",
    "        chunkname = row[column_name]\n",
    "        chunk_filename = f'{data_chunks}{chunkname}{codec}'\n",
    "        features = extract_features(chunk_filename)\n",
    "        results[chunkname] = features\n",
    "        \n",
    "        count += 1\n",
    "        \n",
    "    return results\n"
   ]
  },
  {
   "cell_type": "code",
   "execution_count": null,
   "metadata": {},
   "outputs": [],
   "source": [
    "all_features = extract_features_df(df)"
   ]
  },
  {
   "cell_type": "code",
   "execution_count": 11,
   "metadata": {
    "ExecuteTime": {
     "end_time": "2019-10-22T22:27:06.828391Z",
     "start_time": "2019-10-22T22:27:06.826029Z"
    }
   },
   "outputs": [],
   "source": [
    "refined_features = 'development_chunks_refined_features.pkl'"
   ]
  },
  {
   "cell_type": "code",
   "execution_count": 141,
   "metadata": {
    "ExecuteTime": {
     "end_time": "2019-10-22T18:19:32.413677Z",
     "start_time": "2019-10-22T18:19:32.204536Z"
    }
   },
   "outputs": [],
   "source": [
    "\n",
    "with open(f'{refined_features}', 'wb') as outfile:\n",
    "    pickle.dump(all_features, outfile)\n",
    "#     json.dump(all_features, outfile, indent=4)"
   ]
  },
  {
   "cell_type": "code",
   "execution_count": 12,
   "metadata": {
    "ExecuteTime": {
     "end_time": "2019-10-22T22:27:12.161959Z",
     "start_time": "2019-10-22T22:27:12.042643Z"
    }
   },
   "outputs": [],
   "source": [
    "with open(f'{refined_features}', 'rb') as readfile:\n",
    "    all_features = pickle.load(readfile)\n"
   ]
  },
  {
   "cell_type": "code",
   "execution_count": 15,
   "metadata": {
    "ExecuteTime": {
     "end_time": "2019-10-22T22:28:46.068165Z",
     "start_time": "2019-10-22T22:28:46.064172Z"
    }
   },
   "outputs": [
    {
     "data": {
      "text/plain": [
       "1946"
      ]
     },
     "execution_count": 15,
     "metadata": {},
     "output_type": "execute_result"
    }
   ],
   "source": [
    "len(all_features.keys())"
   ]
  },
  {
   "cell_type": "code",
   "execution_count": 72,
   "metadata": {
    "ExecuteTime": {
     "end_time": "2019-10-22T23:30:48.664497Z",
     "start_time": "2019-10-22T23:30:48.659933Z"
    }
   },
   "outputs": [
    {
     "data": {
      "text/plain": [
       "dict_keys(['CR_lounge_220110_0731.s0_chunk27', 'CR_lounge_220110_0731.s0_chunk18', 'CR_lounge_220110_0731.s0_chunk70', 'CR_lounge_220110_0731.s0_chunk0', 'CR_lounge_220110_0731.s0_chunk39', 'CR_lounge_220110_0731.s0_chunk5', 'CR_lounge_220110_0731.s0_chunk24', 'CR_lounge_220110_0731.s0_chunk72', 'CR_lounge_220110_0731.s0_chunk15', 'CR_lounge_220110_0731.s0_chunk16', 'CR_lounge_220110_0731.s0_chunk35', 'CR_lounge_220110_0731.s0_chunk69', 'CR_lounge_220110_0731.s0_chunk20', 'CR_lounge_220110_0731.s0_chunk74', 'CR_lounge_220110_0731.s0_chunk26', 'CR_lounge_220110_0731.s0_chunk46', 'CR_lounge_220110_0731.s0_chunk11', 'CR_lounge_220110_0731.s0_chunk19', 'CR_lounge_220110_0731.s0_chunk71', 'CR_lounge_220110_0731.s0_chunk22', 'CR_lounge_220110_0731.s0_chunk7', 'CR_lounge_220110_0731.s0_chunk12', 'CR_lounge_220110_0731.s0_chunk40', 'CR_lounge_220110_0731.s0_chunk21', 'CR_lounge_220110_0731.s0_chunk41', 'CR_lounge_220110_0731.s0_chunk30', 'CR_lounge_220110_0731.s0_chunk17', 'CR_lounge_220110_0731.s0_chunk73', 'CR_lounge_220110_0731.s0_chunk45', 'CR_lounge_220110_0731.s0_chunk9', 'CR_lounge_200110_1711.s600_chunk32', 'CR_lounge_200110_1711.s600_chunk63', 'CR_lounge_200110_1711.s600_chunk19', 'CR_lounge_200110_1711.s600_chunk20', 'CR_lounge_200110_1711.s600_chunk60', 'CR_lounge_200110_1711.s600_chunk62', 'CR_lounge_200110_1711.s600_chunk13', 'CR_lounge_200110_1711.s600_chunk59', 'CR_lounge_200110_1711.s600_chunk8', 'CR_lounge_200110_1711.s600_chunk29', 'CR_lounge_200110_1711.s600_chunk51', 'CR_lounge_200110_1711.s600_chunk16', 'CR_lounge_200110_1711.s600_chunk64', 'CR_lounge_200110_1711.s600_chunk10', 'CR_lounge_200110_1711.s600_chunk54', 'CR_lounge_200110_1711.s600_chunk61', 'CR_lounge_200110_1711.s600_chunk11', 'CR_lounge_200110_1711.s600_chunk44', 'CR_lounge_200110_1711.s600_chunk43', 'CR_lounge_200110_1711.s600_chunk71', 'CR_lounge_200110_1711.s600_chunk41', 'CR_lounge_200110_1711.s600_chunk12', 'CR_lounge_200110_1711.s600_chunk72', 'CR_lounge_200110_1711.s600_chunk30', 'CR_lounge_270110_1632.s3000_chunk37', 'CR_lounge_270110_1632.s3000_chunk43', 'CR_lounge_270110_1632.s3000_chunk55', 'CR_lounge_270110_1632.s3000_chunk30', 'CR_lounge_270110_1632.s3000_chunk35', 'CR_lounge_270110_1632.s3000_chunk32', 'CR_lounge_270110_1632.s3000_chunk62', 'CR_lounge_270110_1632.s3000_chunk48', 'CR_lounge_270110_1632.s3000_chunk0', 'CR_lounge_270110_1632.s3000_chunk15', 'CR_lounge_270110_1632.s3000_chunk71', 'CR_lounge_270110_1632.s3000_chunk23', 'CR_lounge_270110_1632.s3000_chunk68', 'CR_lounge_270110_1632.s3000_chunk46', 'CR_lounge_270110_1632.s3000_chunk40', 'CR_lounge_270110_1632.s3000_chunk3', 'CR_lounge_270110_1632.s3000_chunk20', 'CR_lounge_270110_1632.s3000_chunk50', 'CR_lounge_270110_1632.s3000_chunk17', 'CR_lounge_270110_1632.s3000_chunk39', 'CR_lounge_270110_1632.s3000_chunk57', 'CR_lounge_270110_1632.s3000_chunk42', 'CR_lounge_270110_1632.s3000_chunk67', 'CR_lounge_270110_1632.s3000_chunk47', 'CR_lounge_270110_1632.s3000_chunk34', 'CR_lounge_270110_1632.s3000_chunk18', 'CR_lounge_270110_1632.s3000_chunk21', 'CR_lounge_270110_1632.s3000_chunk19', 'CR_lounge_270110_1632.s3000_chunk64', 'CR_lounge_270110_1632.s3000_chunk74', 'CR_lounge_270110_1632.s3000_chunk56', 'CR_lounge_270110_1632.s3000_chunk9', 'CR_lounge_270110_1632.s0_chunk73', 'CR_lounge_270110_1632.s0_chunk64', 'CR_lounge_270110_1632.s0_chunk16', 'CR_lounge_270110_1632.s0_chunk56', 'CR_lounge_270110_1632.s0_chunk32', 'CR_lounge_270110_1632.s0_chunk62', 'CR_lounge_270110_1632.s0_chunk55', 'CR_lounge_270110_1632.s0_chunk44', 'CR_lounge_270110_1632.s0_chunk37', 'CR_lounge_270110_1632.s0_chunk12', 'CR_lounge_270110_1632.s0_chunk10', 'CR_lounge_270110_1632.s0_chunk52', 'CR_lounge_270110_1632.s0_chunk1', 'CR_lounge_270110_1632.s0_chunk70', 'CR_lounge_270110_1632.s0_chunk45', 'CR_lounge_270110_1632.s0_chunk4', 'CR_lounge_270110_1632.s0_chunk66', 'CR_lounge_270110_1632.s0_chunk15', 'CR_lounge_270110_1632.s0_chunk54', 'CR_lounge_270110_1632.s0_chunk48', 'CR_lounge_270110_1632.s0_chunk61', 'CR_lounge_270110_1632.s0_chunk57', 'CR_lounge_270110_1632.s0_chunk74', 'CR_lounge_270110_1632.s0_chunk72', 'CR_lounge_270110_1632.s0_chunk50', 'CR_lounge_270110_1632.s0_chunk40', 'CR_lounge_270110_1632.s0_chunk65', 'CR_lounge_270110_1632.s0_chunk41', 'CR_lounge_270110_1632.s0_chunk13', 'CR_lounge_270110_1632.s0_chunk51', 'CR_lounge_270110_1632.s0_chunk69', 'CR_lounge_270110_1632.s0_chunk7', 'CR_lounge_270110_1632.s0_chunk46', 'CR_lounge_270110_1632.s0_chunk43', 'CR_lounge_270110_1632.s0_chunk3', 'CR_lounge_270110_1632.s0_chunk53', 'CR_lounge_270110_1632.s0_chunk34', 'CR_lounge_270110_1632.s0_chunk5', 'CR_lounge_270110_1632.s0_chunk58', 'CR_lounge_270110_1632.s0_chunk38', 'CR_lounge_270110_1632.s0_chunk8', 'CR_lounge_270110_1632.s0_chunk9', 'CR_lounge_270110_1632.s0_chunk11', 'CR_lounge_270110_1632.s0_chunk17', 'CR_lounge_270110_1632.s0_chunk14', 'CR_lounge_270110_1632.s0_chunk67', 'CR_lounge_270110_1632.s0_chunk47', 'CR_lounge_270110_1632.s0_chunk35', 'CR_lounge_270110_1632.s0_chunk24', 'CR_lounge_270110_1632.s0_chunk71', 'CR_lounge_270110_1632.s0_chunk63', 'CR_lounge_270110_1632.s0_chunk39', 'CR_lounge_270110_1632.s0_chunk20', 'CR_lounge_270110_1632.s0_chunk60', 'CR_lounge_270110_1632.s0_chunk36', 'CR_lounge_270110_1632.s3300_chunk46', 'CR_lounge_270110_1632.s3300_chunk68', 'CR_lounge_270110_1632.s3300_chunk44', 'CR_lounge_270110_1632.s3300_chunk38', 'CR_lounge_270110_1632.s3300_chunk21', 'CR_lounge_270110_1632.s3300_chunk34', 'CR_lounge_270110_1632.s3300_chunk62', 'CR_lounge_270110_1632.s3300_chunk43', 'CR_lounge_270110_1632.s3300_chunk59', 'CR_lounge_270110_1632.s3300_chunk26', 'CR_lounge_270110_1632.s3300_chunk40', 'CR_lounge_270110_1632.s3300_chunk29', 'CR_lounge_270110_1632.s3300_chunk69', 'CR_lounge_270110_1632.s3300_chunk13', 'CR_lounge_270110_1632.s3300_chunk12', 'CR_lounge_270110_1632.s3300_chunk50', 'CR_lounge_270110_1632.s3300_chunk39', 'CR_lounge_270110_1632.s3300_chunk57', 'CR_lounge_270110_1632.s3300_chunk11', 'CR_lounge_270110_1632.s3300_chunk56', 'CR_lounge_270110_1632.s3300_chunk5', 'CR_lounge_270110_1632.s3300_chunk45', 'CR_lounge_270110_1632.s3300_chunk2', 'CR_lounge_270110_1632.s3300_chunk72', 'CR_lounge_270110_1632.s3300_chunk27', 'CR_lounge_270110_1632.s3300_chunk51', 'CR_lounge_270110_1632.s3300_chunk8', 'CR_lounge_270110_1632.s3300_chunk37', 'CR_lounge_270110_1632.s3300_chunk47', 'CR_lounge_270110_1632.s3300_chunk28', 'CR_lounge_270110_1632.s3300_chunk36', 'CR_lounge_270110_1632.s3300_chunk19', 'CR_lounge_270110_1632.s3300_chunk0', 'CR_lounge_220110_0731.s3600_chunk3', 'CR_lounge_220110_0731.s3600_chunk54', 'CR_lounge_220110_0731.s3600_chunk33', 'CR_lounge_220110_0731.s3600_chunk24', 'CR_lounge_220110_0731.s3600_chunk65', 'CR_lounge_220110_0731.s3600_chunk61', 'CR_lounge_220110_0731.s3600_chunk45', 'CR_lounge_220110_0731.s3600_chunk64', 'CR_lounge_220110_0731.s3600_chunk63', 'CR_lounge_220110_0731.s3600_chunk35', 'CR_lounge_220110_0731.s3600_chunk20', 'CR_lounge_220110_0731.s3600_chunk58', 'CR_lounge_220110_0731.s3600_chunk11', 'CR_lounge_220110_0731.s3600_chunk50', 'CR_lounge_220110_0731.s3600_chunk21', 'CR_lounge_220110_0731.s3600_chunk30', 'CR_lounge_220110_0731.s3600_chunk13', 'CR_lounge_220110_0731.s3600_chunk66', 'CR_lounge_220110_0731.s3600_chunk62', 'CR_lounge_220110_0731.s3600_chunk56', 'CR_lounge_220110_0731.s3600_chunk16', 'CR_lounge_220110_0731.s3600_chunk42', 'CR_lounge_220110_0731.s3600_chunk28', 'CR_lounge_220110_0731.s3600_chunk34', 'CR_lounge_220110_0731.s3600_chunk38', 'CR_lounge_230110_1036.s2100_chunk74', 'CR_lounge_230110_1036.s2100_chunk31', 'CR_lounge_230110_1036.s2100_chunk12', 'CR_lounge_230110_1036.s2100_chunk52', 'CR_lounge_230110_1036.s2100_chunk3', 'CR_lounge_230110_1036.s2100_chunk70', 'CR_lounge_230110_1036.s2100_chunk17', 'CR_lounge_230110_1036.s2100_chunk44', 'CR_lounge_230110_1036.s2100_chunk73', 'CR_lounge_230110_1036.s2100_chunk21', 'CR_lounge_230110_1036.s2100_chunk16', 'CR_lounge_230110_1036.s2100_chunk25', 'CR_lounge_230110_1036.s2100_chunk33', 'CR_lounge_230110_1036.s2100_chunk9', 'CR_lounge_230110_1036.s2100_chunk19', 'CR_lounge_230110_1036.s2100_chunk23', 'CR_lounge_230110_1036.s2100_chunk15', 'CR_lounge_230110_1036.s2100_chunk56', 'CR_lounge_230110_1036.s2100_chunk1', 'CR_lounge_230110_1036.s2100_chunk57', 'CR_lounge_230110_1036.s2100_chunk71', 'CR_lounge_230110_1036.s2100_chunk37', 'CR_lounge_230110_1036.s2100_chunk63', 'CR_lounge_230110_1036.s2100_chunk46', 'CR_lounge_230110_1036.s2100_chunk29', 'CR_lounge_230110_1036.s2100_chunk66', 'CR_lounge_230110_1036.s2100_chunk60', 'CR_lounge_230110_1036.s2100_chunk14', 'CR_lounge_230110_1036.s2100_chunk65', 'CR_lounge_230110_1501.s3000_chunk4', 'CR_lounge_230110_1501.s3000_chunk53', 'CR_lounge_230110_1501.s3000_chunk42', 'CR_lounge_230110_1501.s3000_chunk11', 'CR_lounge_230110_1501.s3000_chunk34', 'CR_lounge_230110_1501.s3000_chunk12', 'CR_lounge_230110_1501.s3000_chunk1', 'CR_lounge_230110_1501.s3000_chunk38', 'CR_lounge_230110_1501.s3000_chunk14', 'CR_lounge_230110_1501.s3000_chunk29', 'CR_lounge_230110_1501.s3000_chunk51', 'CR_lounge_230110_1501.s3000_chunk39', 'CR_lounge_230110_1501.s3000_chunk72', 'CR_lounge_230110_1501.s3000_chunk15', 'CR_lounge_230110_1501.s3000_chunk43', 'CR_lounge_230110_1501.s3000_chunk16', 'CR_lounge_230110_1501.s3000_chunk46', 'CR_lounge_230110_1501.s3000_chunk56', 'CR_lounge_230110_1501.s3000_chunk18', 'CR_lounge_230110_1501.s3000_chunk8', 'CR_lounge_230110_1501.s3000_chunk30', 'CR_lounge_230110_1501.s3000_chunk0', 'CR_lounge_230110_1501.s3000_chunk3', 'CR_lounge_230110_1501.s3000_chunk13', 'CR_lounge_230110_1501.s3000_chunk20', 'CR_lounge_230110_1501.s3000_chunk54', 'CR_lounge_230110_1501.s3000_chunk24', 'CR_lounge_230110_1501.s3000_chunk17', 'CR_lounge_230110_1501.s3000_chunk22', 'CR_lounge_230110_1501.s3300_chunk54', 'CR_lounge_230110_1501.s3300_chunk50', 'CR_lounge_230110_1501.s3300_chunk24', 'CR_lounge_230110_1501.s3300_chunk61', 'CR_lounge_230110_1501.s3300_chunk70', 'CR_lounge_220110_0731.s2100_chunk24', 'CR_lounge_220110_0731.s2100_chunk3', 'CR_lounge_220110_0731.s2100_chunk72', 'CR_lounge_220110_0731.s2100_chunk69', 'CR_lounge_220110_0731.s2100_chunk18', 'CR_lounge_220110_0731.s2100_chunk67', 'CR_lounge_220110_0731.s2100_chunk25', 'CR_lounge_220110_0731.s2100_chunk10', 'CR_lounge_220110_0731.s2100_chunk43', 'CR_lounge_220110_0731.s2100_chunk59', 'CR_lounge_220110_0731.s2100_chunk23', 'CR_lounge_220110_0731.s2100_chunk46', 'CR_lounge_220110_0731.s2100_chunk7', 'CR_lounge_220110_0731.s2100_chunk44', 'CR_lounge_220110_0731.s2100_chunk34', 'CR_lounge_220110_0731.s2100_chunk32', 'CR_lounge_220110_0731.s2100_chunk56', 'CR_lounge_220110_0731.s2100_chunk61', 'CR_lounge_220110_0731.s2100_chunk26', 'CR_lounge_220110_0731.s2100_chunk37', 'CR_lounge_220110_0731.s2100_chunk12', 'CR_lounge_220110_0731.s2100_chunk22', 'CR_lounge_220110_0731.s2100_chunk4', 'CR_lounge_220110_0731.s2100_chunk21', 'CR_lounge_220110_0731.s2100_chunk49', 'CR_lounge_220110_0731.s2100_chunk39', 'CR_lounge_220110_0731.s2100_chunk74', 'CR_lounge_220110_0731.s2100_chunk5', 'CR_lounge_220110_0731.s2100_chunk47', 'CR_lounge_220110_0731.s2100_chunk62', 'CR_lounge_220110_0731.s2100_chunk40', 'CR_lounge_200110_1601.s300_chunk41', 'CR_lounge_200110_1601.s300_chunk72', 'CR_lounge_200110_1601.s300_chunk43', 'CR_lounge_200110_1601.s300_chunk59', 'CR_lounge_200110_1601.s300_chunk50', 'CR_lounge_200110_1601.s300_chunk52', 'CR_lounge_200110_1601.s300_chunk63', 'CR_lounge_200110_1601.s300_chunk66', 'CR_lounge_200110_1601.s300_chunk69', 'CR_lounge_200110_1601.s300_chunk36', 'CR_lounge_200110_1601.s300_chunk67', 'CR_lounge_200110_1601.s300_chunk68', 'CR_lounge_200110_1601.s300_chunk2', 'CR_lounge_200110_1601.s300_chunk38', 'CR_lounge_200110_1601.s300_chunk42', 'CR_lounge_200110_1601.s300_chunk65', 'CR_lounge_200110_1601.s300_chunk10', 'CR_lounge_200110_1601.s300_chunk58', 'CR_lounge_200110_1601.s300_chunk61', 'CR_lounge_200110_1601.s300_chunk55', 'CR_lounge_200110_1601.s300_chunk71', 'CR_lounge_200110_1601.s300_chunk60', 'CR_lounge_200110_1601.s300_chunk39', 'CR_lounge_200110_1601.s300_chunk74', 'CR_lounge_200110_1601.s300_chunk53', 'CR_lounge_200110_1601.s300_chunk1', 'CR_lounge_230110_1501.s2100_chunk39', 'CR_lounge_230110_1501.s2100_chunk11', 'CR_lounge_230110_1501.s2100_chunk28', 'CR_lounge_230110_1501.s2100_chunk14', 'CR_lounge_230110_1501.s2100_chunk35', 'CR_lounge_230110_1501.s2100_chunk59', 'CR_lounge_230110_1501.s2100_chunk61', 'CR_lounge_230110_1501.s2100_chunk31', 'CR_lounge_230110_1501.s2100_chunk1', 'CR_lounge_230110_1501.s2100_chunk51', 'CR_lounge_230110_1501.s2100_chunk56', 'CR_lounge_230110_1501.s2100_chunk72', 'CR_lounge_230110_1501.s2100_chunk42', 'CR_lounge_230110_1501.s2100_chunk23', 'CR_lounge_230110_1501.s2100_chunk63', 'CR_lounge_230110_1501.s2100_chunk60', 'CR_lounge_230110_1501.s2100_chunk33', 'CR_lounge_230110_1501.s2100_chunk41', 'CR_lounge_230110_1501.s2100_chunk27', 'CR_lounge_230110_1501.s2100_chunk67', 'CR_lounge_230110_1501.s2100_chunk22', 'CR_lounge_230110_1501.s2100_chunk53', 'CR_lounge_230110_1501.s2100_chunk34', 'CR_lounge_230110_1501.s2100_chunk5', 'CR_lounge_230110_1501.s2100_chunk49', 'CR_lounge_230110_1501.s2100_chunk70', 'CR_lounge_230110_1501.s2100_chunk54', 'CR_lounge_230110_1501.s2100_chunk50', 'CR_lounge_230110_1501.s2100_chunk66', 'CR_lounge_230110_1501.s2100_chunk3', 'CR_lounge_230110_1501.s2100_chunk0', 'CR_lounge_230110_1501.s2100_chunk7', 'CR_lounge_230110_1501.s2100_chunk65', 'CR_lounge_230110_1501.s2100_chunk62', 'CR_lounge_230110_1501.s2100_chunk2', 'CR_lounge_230110_1501.s2100_chunk48', 'CR_lounge_230110_1501.s2100_chunk57', 'CR_lounge_230110_1501.s2100_chunk52', 'CR_lounge_230110_1501.s2100_chunk74', 'CR_lounge_230110_1501.s2100_chunk30', 'CR_lounge_230110_1501.s2100_chunk6', 'CR_lounge_230110_1501.s2100_chunk58', 'CR_lounge_230110_1501.s2100_chunk32', 'CR_lounge_230110_1501.s2100_chunk38', 'CR_lounge_230110_1501.s2100_chunk29', 'CR_lounge_200110_1601.s2100_chunk2', 'CR_lounge_200110_1601.s2100_chunk45', 'CR_lounge_200110_1601.s2100_chunk37', 'CR_lounge_200110_1601.s2100_chunk25', 'CR_lounge_200110_1601.s2100_chunk31', 'CR_lounge_200110_1601.s2100_chunk34', 'CR_lounge_200110_1601.s2100_chunk74', 'CR_lounge_200110_1601.s2100_chunk38', 'CR_lounge_200110_1601.s2100_chunk11', 'CR_lounge_200110_1601.s2100_chunk9', 'CR_lounge_200110_1601.s2100_chunk70', 'CR_lounge_200110_1601.s2100_chunk28', 'CR_lounge_200110_1601.s2100_chunk4', 'CR_lounge_200110_1601.s2100_chunk6', 'CR_lounge_200110_1601.s2100_chunk46', 'CR_lounge_200110_1601.s2100_chunk24', 'CR_lounge_200110_1601.s2100_chunk12', 'CR_lounge_200110_1601.s2100_chunk50', 'CR_lounge_200110_1601.s2100_chunk47', 'CR_lounge_200110_1601.s2100_chunk42', 'CR_lounge_200110_1601.s2100_chunk51', 'CR_lounge_200110_1601.s2100_chunk39', 'CR_lounge_200110_1601.s2100_chunk73', 'CR_lounge_200110_1601.s2100_chunk14', 'CR_lounge_200110_1601.s2100_chunk22', 'CR_lounge_200110_1601.s2100_chunk16', 'CR_lounge_200110_1601.s2100_chunk32', 'CR_lounge_200110_1601.s2100_chunk3', 'CR_lounge_200110_1601.s2100_chunk27', 'CR_lounge_200110_1601.s2100_chunk23', 'CR_lounge_200110_1601.s2100_chunk8', 'CR_lounge_200110_1601.s2100_chunk19', 'CR_lounge_200110_1601.s2100_chunk15', 'CR_lounge_200110_1601.s2100_chunk5', 'CR_lounge_200110_1601.s2100_chunk33', 'CR_lounge_200110_1601.s2100_chunk29', 'CR_lounge_200110_1601.s2100_chunk10', 'CR_lounge_200110_1601.s2100_chunk71', 'CR_lounge_200110_1601.s2100_chunk20', 'CR_lounge_200110_1601.s2100_chunk41', 'CR_lounge_200110_1601.s2100_chunk36', 'CR_lounge_200110_1601.s2100_chunk13', 'CR_lounge_200110_1601.s2100_chunk1', 'CR_lounge_200110_1601.s2100_chunk43', 'CR_lounge_200110_1601.s2100_chunk44', 'CR_lounge_200110_1601.s2100_chunk49', 'CR_lounge_200110_1601.s2100_chunk35', 'CR_lounge_230110_1036.s2700_chunk6', 'CR_lounge_230110_1036.s2700_chunk72', 'CR_lounge_230110_1036.s2700_chunk57', 'CR_lounge_230110_1036.s2700_chunk50', 'CR_lounge_230110_1036.s2700_chunk39', 'CR_lounge_230110_1036.s2700_chunk42', 'CR_lounge_230110_1036.s2700_chunk47', 'CR_lounge_230110_1036.s2700_chunk1', 'CR_lounge_230110_1036.s2700_chunk48', 'CR_lounge_230110_1036.s2700_chunk4', 'CR_lounge_230110_1036.s2700_chunk69', 'CR_lounge_230110_1036.s2700_chunk19', 'CR_lounge_230110_1036.s2700_chunk30', 'CR_lounge_230110_1036.s2700_chunk32', 'CR_lounge_230110_1036.s2700_chunk56', 'CR_lounge_230110_1036.s2700_chunk49', 'CR_lounge_230110_1036.s2700_chunk71', 'CR_lounge_230110_1036.s2700_chunk40', 'CR_lounge_230110_1036.s2700_chunk43', 'CR_lounge_230110_1036.s2700_chunk41', 'CR_lounge_230110_1036.s2700_chunk55', 'CR_lounge_230110_1036.s2700_chunk17', 'CR_lounge_230110_1036.s2700_chunk68', 'CR_lounge_230110_1036.s2700_chunk15', 'CR_lounge_230110_1036.s2700_chunk26', 'CR_lounge_230110_1036.s2700_chunk62', 'CR_lounge_230110_1036.s2700_chunk59', 'CR_lounge_230110_1036.s2700_chunk45', 'CR_lounge_230110_1036.s2700_chunk73', 'CR_lounge_230110_1036.s2700_chunk23', 'CR_lounge_230110_1036.s2700_chunk16', 'CR_lounge_230110_1036.s2700_chunk64', 'CR_lounge_230110_1036.s2700_chunk61', 'CR_lounge_230110_1036.s2700_chunk28', 'CR_lounge_230110_1036.s2700_chunk52', 'CR_lounge_230110_1036.s2700_chunk7', 'CR_lounge_230110_1036.s2700_chunk63', 'CR_lounge_230110_1036.s2700_chunk27', 'CR_lounge_230110_1036.s2700_chunk18', 'CR_lounge_230110_1036.s2700_chunk44', 'CR_lounge_230110_1036.s2700_chunk38', 'CR_lounge_230110_1036.s2700_chunk22', 'CR_lounge_230110_1036.s2700_chunk53', 'CR_lounge_230110_1036.s2700_chunk46', 'CR_lounge_230110_1036.s2700_chunk60', 'CR_lounge_230110_1036.s2700_chunk37', 'CR_lounge_230110_1501.s1200_chunk15', 'CR_lounge_230110_1501.s1200_chunk54', 'CR_lounge_230110_1501.s1200_chunk11', 'CR_lounge_230110_1501.s1200_chunk28', 'CR_lounge_230110_1501.s1200_chunk62', 'CR_lounge_230110_1501.s1200_chunk46', 'CR_lounge_230110_1501.s1200_chunk52', 'CR_lounge_230110_1501.s1200_chunk60', 'CR_lounge_230110_1501.s1200_chunk9', 'CR_lounge_230110_1501.s1200_chunk56', 'CR_lounge_230110_1501.s1200_chunk73', 'CR_lounge_230110_1036.s1800_chunk5', 'CR_lounge_230110_1036.s1800_chunk15', 'CR_lounge_230110_1036.s1800_chunk33', 'CR_lounge_230110_1036.s1800_chunk21', 'CR_lounge_230110_1036.s1800_chunk20', 'CR_lounge_230110_1036.s1800_chunk36', 'CR_lounge_230110_1036.s1800_chunk63', 'CR_lounge_230110_1036.s1800_chunk60', 'CR_lounge_230110_1036.s1800_chunk69', 'CR_lounge_230110_1036.s1800_chunk25', 'CR_lounge_230110_1036.s1800_chunk6', 'CR_lounge_230110_1036.s1800_chunk44', 'CR_lounge_230110_1036.s1800_chunk43', 'CR_lounge_230110_1036.s1800_chunk41', 'CR_lounge_230110_1036.s1800_chunk65', 'CR_lounge_230110_1036.s1800_chunk4', 'CR_lounge_230110_1036.s1800_chunk13', 'CR_lounge_230110_1036.s1800_chunk47', 'CR_lounge_230110_1036.s1800_chunk7', 'CR_lounge_230110_1036.s1800_chunk67', 'CR_lounge_230110_1036.s1800_chunk64', 'CR_lounge_230110_1036.s1800_chunk74', 'CR_lounge_230110_1036.s1800_chunk49', 'CR_lounge_230110_1036.s1800_chunk56', 'CR_lounge_230110_1036.s1800_chunk16', 'CR_lounge_230110_1036.s1800_chunk42', 'CR_lounge_230110_1036.s1800_chunk31', 'CR_lounge_230110_1036.s1800_chunk28', 'CR_lounge_230110_1036.s1800_chunk55', 'CR_lounge_230110_1036.s1800_chunk68', 'CR_lounge_230110_1036.s1800_chunk14', 'CR_lounge_230110_1036.s1800_chunk37', 'CR_lounge_230110_1036.s1800_chunk29', 'CR_lounge_230110_1501.s2700_chunk69', 'CR_lounge_230110_1501.s2700_chunk39', 'CR_lounge_230110_1501.s2700_chunk17', 'CR_lounge_230110_1501.s2700_chunk50', 'CR_lounge_230110_1501.s2700_chunk70', 'CR_lounge_230110_1501.s2700_chunk61', 'CR_lounge_230110_1501.s2700_chunk24', 'CR_lounge_230110_1501.s2700_chunk20', 'CR_lounge_230110_1501.s2700_chunk63', 'CR_lounge_230110_1501.s2700_chunk14', 'CR_lounge_230110_1501.s2700_chunk23', 'CR_lounge_230110_1501.s2700_chunk8', 'CR_lounge_230110_1501.s2700_chunk52', 'CR_lounge_230110_1501.s2700_chunk51', 'CR_lounge_230110_1501.s2700_chunk26', 'CR_lounge_230110_1501.s2700_chunk16', 'CR_lounge_230110_1501.s2700_chunk19', 'CR_lounge_230110_1501.s2700_chunk59', 'CR_lounge_230110_1501.s2700_chunk62', 'CR_lounge_230110_1501.s2700_chunk66', 'CR_lounge_230110_1501.s2700_chunk45', 'CR_lounge_230110_1501.s2700_chunk30', 'CR_lounge_230110_1501.s2700_chunk55', 'CR_lounge_230110_1501.s2700_chunk43', 'CR_lounge_230110_1501.s2700_chunk74', 'CR_lounge_230110_1501.s2700_chunk49', 'CR_lounge_230110_1501.s2700_chunk35', 'CR_lounge_230110_1501.s2700_chunk73', 'CR_lounge_230110_1501.s2700_chunk53', 'CR_lounge_230110_1501.s2700_chunk5', 'CR_lounge_230110_1501.s2700_chunk64', 'CR_lounge_230110_1501.s2700_chunk21', 'CR_lounge_230110_1501.s2700_chunk18', 'CR_lounge_230110_1501.s2700_chunk60', 'CR_lounge_230110_1501.s2700_chunk9', 'CR_lounge_230110_1501.s2700_chunk38', 'CR_lounge_270110_1632.s2100_chunk29', 'CR_lounge_270110_1632.s2100_chunk36', 'CR_lounge_270110_1632.s2100_chunk42', 'CR_lounge_270110_1632.s2100_chunk13', 'CR_lounge_270110_1632.s2100_chunk10', 'CR_lounge_270110_1632.s2100_chunk61', 'CR_lounge_270110_1632.s2100_chunk2', 'CR_lounge_270110_1632.s2100_chunk53', 'CR_lounge_270110_1632.s2100_chunk64', 'CR_lounge_270110_1632.s2100_chunk60', 'CR_lounge_270110_1632.s2100_chunk45', 'CR_lounge_270110_1632.s2100_chunk58', 'CR_lounge_270110_1632.s2100_chunk62', 'CR_lounge_270110_1632.s2100_chunk12', 'CR_lounge_270110_1632.s2100_chunk4', 'CR_lounge_270110_1632.s2100_chunk51', 'CR_lounge_270110_1632.s2100_chunk66', 'CR_lounge_270110_1632.s2100_chunk3', 'CR_lounge_270110_1632.s2100_chunk71', 'CR_lounge_270110_1632.s2100_chunk52', 'CR_lounge_270110_1632.s2100_chunk57', 'CR_lounge_270110_1632.s2100_chunk22', 'CR_lounge_270110_1632.s2100_chunk68', 'CR_lounge_270110_1632.s2100_chunk15', 'CR_lounge_270110_1632.s2100_chunk6', 'CR_lounge_200110_1601.s3900_chunk15', 'CR_lounge_200110_1601.s3900_chunk5', 'CR_lounge_200110_1601.s3900_chunk42', 'CR_lounge_200110_1601.s3900_chunk1', 'CR_lounge_200110_1601.s3900_chunk25', 'CR_lounge_200110_1601.s3900_chunk0', 'CR_lounge_200110_1601.s3900_chunk45', 'CR_lounge_200110_1601.s3900_chunk18', 'CR_lounge_200110_1601.s3900_chunk16', 'CR_lounge_200110_1601.s3900_chunk8', 'CR_lounge_200110_1601.s3900_chunk14', 'CR_lounge_200110_1601.s3900_chunk31', 'CR_lounge_200110_1601.s3900_chunk48', 'CR_lounge_200110_1601.s3900_chunk41', 'CR_lounge_200110_1601.s3900_chunk24', 'CR_lounge_200110_1601.s3900_chunk36', 'CR_lounge_200110_1601.s3900_chunk44', 'CR_lounge_200110_1601.s3900_chunk13', 'CR_lounge_200110_1601.s3900_chunk32', 'CR_lounge_200110_1601.s3900_chunk35', 'CR_lounge_200110_1601.s3900_chunk21', 'CR_lounge_200110_1601.s3900_chunk37', 'CR_lounge_200110_1601.s3900_chunk19', 'CR_lounge_200110_1601.s3900_chunk6', 'CR_lounge_200110_1601.s3900_chunk46', 'CR_lounge_200110_1601.s3900_chunk34', 'CR_lounge_200110_1601.s3900_chunk49', 'CR_lounge_200110_1601.s3900_chunk22', 'CR_lounge_200110_1601.s3900_chunk38', 'CR_lounge_200110_1601.s3900_chunk17', 'CR_lounge_200110_1601.s3900_chunk26', 'CR_lounge_200110_1601.s3900_chunk4', 'CR_lounge_200110_1601.s3900_chunk39', 'CR_lounge_200110_1601.s3900_chunk20', 'CR_lounge_200110_1601.s3900_chunk40', 'CR_lounge_230110_1501.s300_chunk0', 'CR_lounge_230110_1501.s300_chunk24', 'CR_lounge_230110_1501.s300_chunk28', 'CR_lounge_230110_1501.s300_chunk58', 'CR_lounge_230110_1501.s300_chunk52', 'CR_lounge_230110_1501.s300_chunk47', 'CR_lounge_230110_1501.s300_chunk3', 'CR_lounge_230110_1501.s300_chunk12', 'CR_lounge_230110_1501.s300_chunk23', 'CR_lounge_230110_1501.s300_chunk44', 'CR_lounge_230110_1501.s300_chunk14', 'CR_lounge_230110_1501.s300_chunk36', 'CR_lounge_230110_1501.s300_chunk2', 'CR_lounge_230110_1501.s300_chunk15', 'CR_lounge_230110_1501.s300_chunk20', 'CR_lounge_230110_1501.s300_chunk25', 'CR_lounge_230110_1501.s300_chunk41', 'CR_lounge_230110_1501.s300_chunk67', 'CR_lounge_230110_1501.s300_chunk59', 'CR_lounge_230110_1501.s300_chunk73', 'CR_lounge_230110_1501.s300_chunk13', 'CR_lounge_230110_1501.s300_chunk22', 'CR_lounge_230110_1501.s300_chunk27', 'CR_lounge_230110_1501.s300_chunk61', 'CR_lounge_270110_1632.s900_chunk28', 'CR_lounge_270110_1632.s900_chunk31', 'CR_lounge_270110_1632.s900_chunk59', 'CR_lounge_270110_1632.s900_chunk5', 'CR_lounge_270110_1632.s900_chunk34', 'CR_lounge_270110_1632.s900_chunk10', 'CR_lounge_270110_1632.s900_chunk72', 'CR_lounge_270110_1632.s900_chunk24', 'CR_lounge_270110_1632.s900_chunk0', 'CR_lounge_270110_1632.s900_chunk54', 'CR_lounge_270110_1632.s900_chunk42', 'CR_lounge_270110_1632.s900_chunk33', 'CR_lounge_270110_1632.s900_chunk2', 'CR_lounge_270110_1632.s900_chunk36', 'CR_lounge_270110_1632.s900_chunk74', 'CR_lounge_270110_1632.s900_chunk50', 'CR_lounge_270110_1632.s900_chunk14', 'CR_lounge_270110_1632.s900_chunk18', 'CR_lounge_270110_1632.s900_chunk22', 'CR_lounge_270110_1632.s900_chunk55', 'CR_lounge_270110_1632.s900_chunk71', 'CR_lounge_270110_1632.s900_chunk19', 'CR_lounge_270110_1632.s900_chunk60', 'CR_lounge_270110_1632.s900_chunk58', 'CR_lounge_270110_1632.s900_chunk48', 'CR_lounge_270110_1632.s900_chunk73', 'CR_lounge_270110_1632.s900_chunk68', 'CR_lounge_270110_1632.s900_chunk30', 'CR_lounge_270110_1632.s900_chunk11', 'CR_lounge_270110_1632.s900_chunk9', 'CR_lounge_270110_1632.s900_chunk40', 'CR_lounge_270110_1632.s900_chunk26', 'CR_lounge_270110_1632.s900_chunk32', 'CR_lounge_210110_0739.s1800_chunk21', 'CR_lounge_210110_0739.s1800_chunk38', 'CR_lounge_210110_0739.s1800_chunk67', 'CR_lounge_210110_0739.s1800_chunk46', 'CR_lounge_210110_0739.s1800_chunk31', 'CR_lounge_210110_0739.s1800_chunk50', 'CR_lounge_210110_0739.s1800_chunk7', 'CR_lounge_210110_0739.s1800_chunk23', 'CR_lounge_210110_0739.s1800_chunk37', 'CR_lounge_210110_0739.s1800_chunk8', 'CR_lounge_200110_1601.s3000_chunk23', 'CR_lounge_200110_1601.s3000_chunk30', 'CR_lounge_200110_1601.s3000_chunk57', 'CR_lounge_200110_1601.s3000_chunk8', 'CR_lounge_200110_1601.s3000_chunk7', 'CR_lounge_200110_1601.s3000_chunk31', 'CR_lounge_200110_1601.s3000_chunk69', 'CR_lounge_200110_1601.s3000_chunk67', 'CR_lounge_200110_1601.s3000_chunk16', 'CR_lounge_200110_1601.s3000_chunk36', 'CR_lounge_200110_1601.s3000_chunk64', 'CR_lounge_200110_1601.s3000_chunk63', 'CR_lounge_200110_1601.s3000_chunk58', 'CR_lounge_200110_1601.s3000_chunk28', 'CR_lounge_200110_1601.s3000_chunk50', 'CR_lounge_200110_1601.s3000_chunk74', 'CR_lounge_200110_1601.s3000_chunk13', 'CR_lounge_200110_1601.s3000_chunk37', 'CR_lounge_200110_1601.s3000_chunk47', 'CR_lounge_200110_1601.s3000_chunk19', 'CR_lounge_200110_1601.s3000_chunk33', 'CR_lounge_200110_1601.s3000_chunk42', 'CR_lounge_200110_1601.s3000_chunk62', 'CR_lounge_200110_1601.s3000_chunk27', 'CR_lounge_200110_1601.s3000_chunk44', 'CR_lounge_200110_1601.s3000_chunk3', 'CR_lounge_200110_1601.s3000_chunk14', 'CR_lounge_200110_1601.s3000_chunk1', 'CR_lounge_200110_1601.s3000_chunk12', 'CR_lounge_200110_1601.s3000_chunk60', 'CR_lounge_200110_1601.s3000_chunk34', 'CR_lounge_200110_1601.s3000_chunk70', 'CR_lounge_200110_1601.s3000_chunk0', 'CR_lounge_200110_1601.s3000_chunk24', 'CR_lounge_200110_1601.s3000_chunk59', 'CR_lounge_200110_1601.s3000_chunk4', 'CR_lounge_200110_1601.s3000_chunk18', 'CR_lounge_200110_1601.s3000_chunk56', 'CR_lounge_200110_1601.s3000_chunk61', 'CR_lounge_200110_1601.s3000_chunk51', 'CR_lounge_200110_1601.s3000_chunk49', 'CR_lounge_200110_1601.s3000_chunk15', 'CR_lounge_200110_1601.s3000_chunk22', 'CR_lounge_200110_1601.s3000_chunk40', 'CR_lounge_200110_1601.s3000_chunk10', 'CR_lounge_200110_1601.s3000_chunk65', 'CR_lounge_200110_1601.s3000_chunk43', 'CR_lounge_200110_1601.s3000_chunk46', 'CR_lounge_200110_1601.s3000_chunk17', 'CR_lounge_200110_1601.s3000_chunk71', 'CR_lounge_200110_1601.s3000_chunk2', 'CR_lounge_200110_1601.s3000_chunk6', 'CR_lounge_200110_1601.s3000_chunk38', 'CR_lounge_200110_1601.s3000_chunk32', 'CR_lounge_200110_1601.s3000_chunk9', 'CR_lounge_200110_1601.s3000_chunk11', 'CR_lounge_200110_1601.s3000_chunk20', 'CR_lounge_200110_1601.s3000_chunk68', 'CR_lounge_200110_1601.s3000_chunk45', 'CR_lounge_200110_1601.s3000_chunk21', 'CR_lounge_200110_1601.s3000_chunk29', 'CR_lounge_200110_1601.s3000_chunk52', 'CR_lounge_200110_1601.s3000_chunk5', 'CR_lounge_200110_1601.s3000_chunk25', 'CR_lounge_230110_1036.s0_chunk14', 'CR_lounge_230110_1036.s0_chunk4', 'CR_lounge_230110_1036.s0_chunk2', 'CR_lounge_230110_1036.s0_chunk33', 'CR_lounge_230110_1036.s0_chunk20', 'CR_lounge_230110_1036.s0_chunk46', 'CR_lounge_230110_1036.s0_chunk64', 'CR_lounge_230110_1036.s0_chunk56', 'CR_lounge_230110_1036.s0_chunk32', 'CR_lounge_230110_1036.s0_chunk60', 'CR_lounge_230110_1036.s0_chunk36', 'CR_lounge_230110_1036.s0_chunk29', 'CR_lounge_230110_1036.s0_chunk22', 'CR_lounge_230110_1036.s0_chunk43', 'CR_lounge_230110_1036.s0_chunk42', 'CR_lounge_230110_1036.s0_chunk66', 'CR_lounge_230110_1036.s0_chunk9', 'CR_lounge_230110_1036.s0_chunk58', 'CR_lounge_230110_1036.s0_chunk48', 'CR_lounge_230110_1036.s0_chunk19', 'CR_lounge_230110_1036.s0_chunk10', 'CR_lounge_230110_1036.s0_chunk61', 'CR_lounge_230110_1036.s0_chunk72', 'CR_lounge_230110_1036.s0_chunk45', 'CR_lounge_230110_1036.s0_chunk30', 'CR_lounge_230110_1036.s0_chunk63', 'CR_lounge_230110_1036.s0_chunk69', 'CR_lounge_230110_1036.s0_chunk26', 'CR_lounge_230110_1036.s0_chunk57', 'CR_lounge_230110_1036.s0_chunk47', 'CR_lounge_230110_1036.s0_chunk71', 'CR_lounge_230110_1036.s0_chunk67', 'CR_lounge_230110_1036.s0_chunk65', 'CR_lounge_230110_1036.s0_chunk41', 'CR_lounge_230110_1036.s0_chunk39', 'CR_lounge_230110_1036.s0_chunk62', 'CR_lounge_230110_1036.s0_chunk49', 'CR_lounge_230110_1036.s0_chunk35', 'CR_lounge_230110_1036.s0_chunk3', 'CR_lounge_230110_1036.s0_chunk21', 'CR_lounge_230110_1036.s0_chunk8', 'CR_lounge_230110_1036.s0_chunk11', 'CR_lounge_230110_1036.s0_chunk17', 'CR_lounge_230110_1036.s0_chunk59', 'CR_lounge_230110_1036.s300_chunk40', 'CR_lounge_230110_1036.s300_chunk22', 'CR_lounge_230110_1036.s300_chunk71', 'CR_lounge_230110_1036.s300_chunk47', 'CR_lounge_230110_1036.s300_chunk1', 'CR_lounge_230110_1036.s300_chunk4', 'CR_lounge_230110_1036.s300_chunk42', 'CR_lounge_230110_1036.s300_chunk18', 'CR_lounge_230110_1036.s300_chunk48', 'CR_lounge_230110_1036.s300_chunk60', 'CR_lounge_230110_1036.s300_chunk12', 'CR_lounge_230110_1036.s300_chunk14', 'CR_lounge_230110_1036.s300_chunk23', 'CR_lounge_230110_1036.s300_chunk7', 'CR_lounge_230110_1036.s300_chunk39', 'CR_lounge_230110_1036.s300_chunk24', 'CR_lounge_230110_1036.s300_chunk56', 'CR_lounge_230110_1036.s300_chunk13', 'CR_lounge_230110_1036.s300_chunk8', 'CR_lounge_230110_1036.s300_chunk5', 'CR_lounge_230110_1036.s300_chunk0', 'CR_lounge_230110_1036.s300_chunk17', 'CR_lounge_230110_1036.s300_chunk3', 'CR_lounge_230110_1036.s300_chunk20', 'CR_lounge_230110_1036.s300_chunk6', 'CR_lounge_230110_1036.s300_chunk2', 'CR_lounge_230110_1036.s300_chunk46', 'CR_lounge_230110_1036.s300_chunk61', 'CR_lounge_210110_0739.s2100_chunk7', 'CR_lounge_210110_0739.s2100_chunk38', 'CR_lounge_210110_0739.s2100_chunk66', 'CR_lounge_210110_0739.s2100_chunk8', 'CR_lounge_210110_0739.s2100_chunk63', 'CR_lounge_210110_0739.s2100_chunk40', 'CR_lounge_210110_0739.s2100_chunk17', 'CR_lounge_210110_0739.s2100_chunk29', 'CR_lounge_210110_0739.s2100_chunk30', 'CR_lounge_210110_0739.s2100_chunk50', 'CR_lounge_210110_0739.s2100_chunk33', 'CR_lounge_210110_0739.s2100_chunk58', 'CR_lounge_210110_0739.s2100_chunk51', 'CR_lounge_210110_0739.s2100_chunk1', 'CR_lounge_210110_0739.s2100_chunk48', 'CR_lounge_210110_0739.s2100_chunk57', 'CR_lounge_210110_0739.s2100_chunk52', 'CR_lounge_210110_0739.s2100_chunk70', 'CR_lounge_210110_0739.s2100_chunk74', 'CR_lounge_210110_0739.s2100_chunk71', 'CR_lounge_210110_0739.s2100_chunk37', 'CR_lounge_210110_0739.s2100_chunk54', 'CR_lounge_210110_0739.s2100_chunk46', 'CR_lounge_210110_0739.s2100_chunk44', 'CR_lounge_210110_0739.s2100_chunk9', 'CR_lounge_210110_0739.s2100_chunk19', 'CR_lounge_210110_0739.s2100_chunk56', 'CR_lounge_210110_0739.s2100_chunk27', 'CR_lounge_210110_0739.s2100_chunk41', 'CR_lounge_210110_0739.s2100_chunk60', 'CR_lounge_210110_0739.s1500_chunk70', 'CR_lounge_210110_0739.s1500_chunk4', 'CR_lounge_210110_0739.s1500_chunk3', 'CR_lounge_210110_0739.s1500_chunk0', 'CR_lounge_210110_0739.s1500_chunk58', 'CR_lounge_210110_0739.s1500_chunk29', 'CR_lounge_210110_0739.s1500_chunk6', 'CR_lounge_210110_0739.s1500_chunk68', 'CR_lounge_210110_0739.s1500_chunk62', 'CR_lounge_210110_0739.s1500_chunk5', 'CR_lounge_210110_0739.s1500_chunk16', 'CR_lounge_210110_0739.s1500_chunk8', 'CR_lounge_210110_0739.s1500_chunk22', 'CR_lounge_210110_0739.s1500_chunk66', 'CR_lounge_210110_0739.s1500_chunk69', 'CR_lounge_210110_0739.s1500_chunk10', 'CR_lounge_210110_0739.s1500_chunk67', 'CR_lounge_210110_0739.s1500_chunk33', 'CR_lounge_210110_0739.s1500_chunk2', 'CR_lounge_210110_0739.s1500_chunk59', 'CR_lounge_210110_0739.s1500_chunk1', 'CR_lounge_210110_0739.s1500_chunk72', 'CR_lounge_210110_0739.s1500_chunk18', 'CR_lounge_210110_0739.s1500_chunk71', 'CR_lounge_220110_0731.s1500_chunk60', 'CR_lounge_220110_0731.s1500_chunk22', 'CR_lounge_220110_0731.s1500_chunk58', 'CR_lounge_220110_0731.s1500_chunk69', 'CR_lounge_220110_0731.s1500_chunk66', 'CR_lounge_220110_0731.s1500_chunk55', 'CR_lounge_220110_0731.s1500_chunk26', 'CR_lounge_220110_0731.s1500_chunk62', 'CR_lounge_220110_0731.s1500_chunk67', 'CR_lounge_220110_0731.s1500_chunk2', 'CR_lounge_220110_0731.s1500_chunk23', 'CR_lounge_220110_0731.s1500_chunk15', 'CR_lounge_220110_0731.s1500_chunk33', 'CR_lounge_220110_0731.s1500_chunk45', 'CR_lounge_220110_0731.s1500_chunk24', 'CR_lounge_220110_0731.s1500_chunk73', 'CR_lounge_220110_0731.s1500_chunk52', 'CR_lounge_220110_0731.s1500_chunk71', 'CR_lounge_220110_0731.s1500_chunk63', 'CR_lounge_220110_0731.s1500_chunk65', 'CR_lounge_220110_0731.s1500_chunk27', 'CR_lounge_220110_0731.s1500_chunk25', 'CR_lounge_220110_0731.s1500_chunk41', 'CR_lounge_220110_0731.s1500_chunk70', 'CR_lounge_220110_0731.s1500_chunk61', 'CR_lounge_220110_0731.s1500_chunk50', 'CR_lounge_220110_0731.s1500_chunk42', 'CR_lounge_220110_0731.s1500_chunk57', 'CR_lounge_220110_0731.s1500_chunk37', 'CR_lounge_220110_0731.s1500_chunk59', 'CR_lounge_220110_0731.s1500_chunk43', 'CR_lounge_220110_0731.s1500_chunk49', 'CR_lounge_220110_0731.s1500_chunk32', 'CR_lounge_220110_0731.s1500_chunk35', 'CR_lounge_220110_0731.s1500_chunk46', 'CR_lounge_220110_0731.s1500_chunk53', 'CR_lounge_220110_0731.s1500_chunk30', 'CR_lounge_220110_0731.s1500_chunk31', 'CR_lounge_220110_0731.s1500_chunk47', 'CR_lounge_220110_0731.s1500_chunk34', 'CR_lounge_220110_0731.s1500_chunk56', 'CR_lounge_220110_0731.s1500_chunk72', 'CR_lounge_220110_0731.s300_chunk62', 'CR_lounge_220110_0731.s300_chunk19', 'CR_lounge_220110_0731.s300_chunk43', 'CR_lounge_220110_0731.s300_chunk41', 'CR_lounge_220110_0731.s300_chunk64', 'CR_lounge_220110_0731.s300_chunk58', 'CR_lounge_220110_0731.s300_chunk72', 'CR_lounge_220110_0731.s300_chunk45', 'CR_lounge_220110_0731.s300_chunk69', 'CR_lounge_220110_0731.s300_chunk67', 'CR_lounge_220110_0731.s300_chunk36', 'CR_lounge_220110_0731.s300_chunk54', 'CR_lounge_220110_0731.s300_chunk10', 'CR_lounge_220110_0731.s300_chunk20', 'CR_lounge_220110_0731.s300_chunk37', 'CR_lounge_220110_0731.s300_chunk42', 'CR_lounge_220110_0731.s300_chunk50', 'CR_lounge_220110_0731.s300_chunk23', 'CR_lounge_220110_0731.s300_chunk33', 'CR_lounge_220110_0731.s300_chunk6', 'CR_lounge_220110_0731.s300_chunk38', 'CR_lounge_220110_0731.s300_chunk51', 'CR_lounge_220110_0731.s300_chunk70', 'CR_lounge_220110_0731.s300_chunk49', 'CR_lounge_220110_0731.s300_chunk34', 'CR_lounge_220110_0731.s300_chunk18', 'CR_lounge_220110_0731.s300_chunk68', 'CR_lounge_220110_0731.s300_chunk57', 'CR_lounge_220110_0731.s300_chunk52', 'CR_lounge_220110_0731.s300_chunk55', 'CR_lounge_220110_0731.s300_chunk16', 'CR_lounge_220110_0731.s300_chunk5', 'CR_lounge_220110_0731.s300_chunk39', 'CR_lounge_220110_0731.s300_chunk59', 'CR_lounge_220110_0731.s300_chunk53', 'CR_lounge_220110_0731.s300_chunk56', 'CR_lounge_220110_0731.s300_chunk74', 'CR_lounge_220110_0731.s300_chunk40', 'CR_lounge_220110_0731.s300_chunk48', 'CR_lounge_220110_0731.s300_chunk46', 'CR_lounge_220110_0731.s300_chunk4', 'CR_lounge_200110_1711.s1800_chunk55', 'CR_lounge_200110_1711.s1800_chunk6', 'CR_lounge_200110_1711.s1800_chunk28', 'CR_lounge_200110_1711.s1800_chunk46', 'CR_lounge_200110_1711.s1800_chunk0', 'CR_lounge_200110_1711.s1800_chunk24', 'CR_lounge_200110_1711.s1800_chunk30', 'CR_lounge_200110_1711.s1800_chunk44', 'CR_lounge_200110_1711.s1800_chunk34', 'CR_lounge_200110_1711.s1800_chunk16', 'CR_lounge_200110_1711.s1800_chunk1', 'CR_lounge_200110_1711.s1800_chunk13', 'CR_lounge_200110_1711.s1800_chunk2', 'CR_lounge_200110_1711.s1800_chunk51', 'CR_lounge_200110_1711.s1800_chunk48', 'CR_lounge_200110_1711.s1800_chunk49', 'CR_lounge_200110_1711.s1800_chunk45', 'CR_lounge_200110_1711.s1800_chunk50', 'CR_lounge_200110_1711.s1800_chunk27', 'CR_lounge_200110_1711.s1800_chunk32', 'CR_lounge_200110_1711.s1800_chunk52', 'CR_lounge_200110_1711.s1800_chunk22', 'CR_lounge_200110_1711.s1800_chunk41', 'CR_lounge_200110_1711.s1800_chunk5', 'CR_lounge_200110_1711.s1800_chunk33', 'CR_lounge_200110_1711.s1800_chunk35', 'CR_lounge_200110_1711.s1800_chunk7', 'CR_lounge_200110_1711.s1800_chunk36', 'CR_lounge_200110_1711.s1800_chunk11', 'CR_lounge_200110_1711.s1800_chunk3', 'CR_lounge_200110_1711.s1800_chunk21', 'CR_lounge_220110_0731.s3000_chunk16', 'CR_lounge_220110_0731.s3000_chunk57', 'CR_lounge_220110_0731.s3000_chunk41', 'CR_lounge_220110_0731.s3000_chunk25', 'CR_lounge_220110_0731.s3000_chunk62', 'CR_lounge_220110_0731.s3000_chunk8', 'CR_lounge_220110_0731.s3000_chunk59', 'CR_lounge_220110_0731.s3000_chunk66', 'CR_lounge_220110_0731.s3000_chunk52', 'CR_lounge_220110_0731.s3000_chunk32', 'CR_lounge_220110_0731.s3000_chunk64', 'CR_lounge_220110_0731.s3000_chunk29', 'CR_lounge_220110_0731.s3000_chunk63', 'CR_lounge_220110_0731.s3000_chunk35', 'CR_lounge_220110_0731.s3000_chunk27', 'CR_lounge_220110_0731.s3000_chunk53', 'CR_lounge_220110_0731.s3000_chunk2', 'CR_lounge_220110_0731.s3000_chunk49', 'CR_lounge_220110_0731.s3000_chunk18', 'CR_lounge_220110_0731.s3000_chunk48', 'CR_lounge_220110_0731.s3000_chunk51', 'CR_lounge_220110_0731.s3000_chunk24', 'CR_lounge_220110_0731.s3000_chunk34', 'CR_lounge_220110_0731.s3000_chunk43', 'CR_lounge_220110_0731.s3000_chunk37', 'CR_lounge_220110_0731.s3000_chunk45', 'CR_lounge_200110_1711.s300_chunk14', 'CR_lounge_200110_1711.s300_chunk37', 'CR_lounge_200110_1711.s300_chunk38', 'CR_lounge_200110_1711.s300_chunk46', 'CR_lounge_200110_1711.s300_chunk53', 'CR_lounge_200110_1711.s300_chunk68', 'CR_lounge_200110_1711.s300_chunk39', 'CR_lounge_200110_1711.s300_chunk42', 'CR_lounge_200110_1711.s300_chunk35', 'CR_lounge_200110_1711.s300_chunk16', 'CR_lounge_200110_1711.s300_chunk8', 'CR_lounge_200110_1711.s300_chunk73', 'CR_lounge_200110_1711.s300_chunk13', 'CR_lounge_200110_1711.s300_chunk62', 'CR_lounge_200110_1711.s300_chunk34', 'CR_lounge_200110_1711.s300_chunk1', 'CR_lounge_200110_1711.s300_chunk22', 'CR_lounge_200110_1711.s300_chunk69', 'CR_lounge_200110_1711.s300_chunk45', 'CR_lounge_200110_1711.s300_chunk19', 'CR_lounge_200110_1711.s300_chunk67', 'CR_lounge_200110_1711.s300_chunk74', 'CR_lounge_200110_1711.s300_chunk72', 'CR_lounge_200110_1711.s300_chunk41', 'CR_lounge_200110_1711.s300_chunk5', 'CR_lounge_210110_0739.s600_chunk13', 'CR_lounge_210110_0739.s600_chunk62', 'CR_lounge_210110_0739.s600_chunk23', 'CR_lounge_210110_0739.s600_chunk4', 'CR_lounge_210110_0739.s600_chunk67', 'CR_lounge_210110_0739.s600_chunk1', 'CR_lounge_210110_0739.s600_chunk64', 'CR_lounge_210110_0739.s600_chunk9', 'CR_lounge_210110_0739.s600_chunk54', 'CR_lounge_210110_0739.s600_chunk74', 'CR_lounge_210110_0739.s600_chunk29', 'CR_lounge_210110_0739.s600_chunk0', 'CR_lounge_210110_0739.s600_chunk7', 'CR_lounge_210110_0739.s600_chunk61', 'CR_lounge_210110_0739.s600_chunk28', 'CR_lounge_210110_0739.s600_chunk36', 'CR_lounge_210110_0739.s600_chunk63', 'CR_lounge_210110_0739.s600_chunk10', 'CR_lounge_210110_0739.s600_chunk58', 'CR_lounge_230110_1036.s900_chunk58', 'CR_lounge_230110_1036.s900_chunk34', 'CR_lounge_230110_1036.s900_chunk31', 'CR_lounge_230110_1036.s900_chunk29', 'CR_lounge_230110_1036.s900_chunk14', 'CR_lounge_230110_1036.s900_chunk46', 'CR_lounge_230110_1036.s900_chunk71', 'CR_lounge_230110_1036.s900_chunk44', 'CR_lounge_230110_1036.s900_chunk35', 'CR_lounge_230110_1036.s900_chunk32', 'CR_lounge_230110_1036.s900_chunk8', 'CR_lounge_230110_1036.s900_chunk64', 'CR_lounge_230110_1036.s900_chunk45', 'CR_lounge_230110_1036.s900_chunk39', 'CR_lounge_230110_1036.s900_chunk51', 'CR_lounge_230110_1036.s900_chunk30', 'CR_lounge_230110_1036.s900_chunk42', 'CR_lounge_230110_1036.s900_chunk74', 'CR_lounge_230110_1036.s900_chunk50', 'CR_lounge_230110_1036.s900_chunk17', 'CR_lounge_230110_1036.s900_chunk15', 'CR_lounge_230110_1036.s900_chunk3', 'CR_lounge_230110_1036.s900_chunk48', 'CR_lounge_230110_1036.s900_chunk54', 'CR_lounge_230110_1036.s900_chunk27', 'CR_lounge_230110_1036.s900_chunk49', 'CR_lounge_230110_1036.s900_chunk60', 'CR_lounge_230110_1036.s900_chunk40', 'CR_lounge_230110_1036.s900_chunk23', 'CR_lounge_230110_1036.s900_chunk4', 'CR_lounge_230110_1036.s900_chunk41', 'CR_lounge_230110_1036.s900_chunk19', 'CR_lounge_230110_1036.s900_chunk72', 'CR_lounge_210110_0739.s1200_chunk1', 'CR_lounge_210110_0739.s1200_chunk41', 'CR_lounge_210110_0739.s1200_chunk43', 'CR_lounge_210110_0739.s1200_chunk14', 'CR_lounge_210110_0739.s1200_chunk22', 'CR_lounge_210110_0739.s1200_chunk50', 'CR_lounge_210110_0739.s1200_chunk57', 'CR_lounge_210110_0739.s1200_chunk74', 'CR_lounge_210110_0739.s1200_chunk72', 'CR_lounge_210110_0739.s1200_chunk48', 'CR_lounge_210110_0739.s1200_chunk54', 'CR_lounge_210110_0739.s1200_chunk13', 'CR_lounge_210110_0739.s1200_chunk47', 'CR_lounge_210110_0739.s1200_chunk24', 'CR_lounge_210110_0739.s1200_chunk67', 'CR_lounge_210110_0739.s1200_chunk51', 'CR_lounge_210110_0739.s1200_chunk61', 'CR_lounge_210110_0739.s1200_chunk11', 'CR_lounge_210110_0739.s1200_chunk19', 'CR_lounge_210110_0739.s1200_chunk8', 'CR_lounge_210110_0739.s1200_chunk16', 'CR_lounge_210110_0739.s1200_chunk52', 'CR_lounge_210110_0739.s1200_chunk66', 'CR_lounge_210110_0739.s1200_chunk45', 'CR_lounge_210110_0739.s1200_chunk9', 'CR_lounge_210110_0739.s1200_chunk35', 'CR_lounge_210110_0739.s1200_chunk33', 'CR_lounge_210110_0739.s1200_chunk58', 'CR_lounge_210110_0739.s1200_chunk7', 'CR_lounge_210110_0739.s1200_chunk64', 'CR_lounge_210110_0739.s1200_chunk26', 'CR_lounge_210110_0739.s1200_chunk36', 'CR_lounge_210110_0739.s1200_chunk62', 'CR_lounge_210110_0739.s1200_chunk73', 'CR_lounge_210110_0739.s1200_chunk6', 'CR_lounge_210110_0739.s1200_chunk15', 'CR_lounge_210110_0739.s1200_chunk2', 'CR_lounge_210110_0739.s1200_chunk42', 'CR_lounge_210110_0739.s1200_chunk68', 'CR_lounge_210110_0739.s1200_chunk69', 'CR_lounge_210110_0739.s1200_chunk49', 'CR_lounge_210110_0739.s1200_chunk20', 'CR_lounge_210110_0739.s1200_chunk60', 'CR_lounge_210110_0739.s1200_chunk65', 'CR_lounge_210110_0739.s1200_chunk34', 'CR_lounge_210110_0739.s1200_chunk53', 'CR_lounge_210110_0739.s1200_chunk63', 'CR_lounge_210110_0739.s1200_chunk27', 'CR_lounge_210110_0739.s1200_chunk23', 'CR_lounge_210110_0739.s1200_chunk18', 'CR_lounge_210110_0739.s1200_chunk25', 'CR_lounge_210110_0739.s1200_chunk56', 'CR_lounge_210110_0739.s1200_chunk4', 'CR_lounge_210110_0739.s300_chunk44', 'CR_lounge_210110_0739.s300_chunk1', 'CR_lounge_210110_0739.s300_chunk73', 'CR_lounge_210110_0739.s300_chunk47', 'CR_lounge_210110_0739.s300_chunk55', 'CR_lounge_210110_0739.s300_chunk57', 'CR_lounge_210110_0739.s300_chunk0', 'CR_lounge_210110_0739.s300_chunk4', 'CR_lounge_210110_0739.s300_chunk18', 'CR_lounge_210110_0739.s300_chunk12', 'CR_lounge_210110_0739.s300_chunk3', 'CR_lounge_210110_0739.s300_chunk7', 'CR_lounge_210110_0739.s300_chunk50', 'CR_lounge_210110_0739.s300_chunk9', 'CR_lounge_210110_0739.s300_chunk61', 'CR_lounge_210110_0739.s300_chunk2', 'CR_lounge_210110_0739.s300_chunk42', 'CR_lounge_210110_0739.s300_chunk5', 'CR_lounge_210110_0739.s300_chunk64', 'CR_lounge_210110_0739.s300_chunk32', 'CR_lounge_210110_0739.s300_chunk38', 'CR_lounge_210110_0739.s300_chunk63', 'CR_lounge_210110_0739.s300_chunk10', 'CR_lounge_210110_0739.s300_chunk34', 'CR_lounge_210110_0739.s300_chunk6', 'CR_lounge_210110_0739.s300_chunk39', 'CR_lounge_210110_0739.s300_chunk35', 'CR_lounge_210110_0739.s300_chunk53', 'CR_lounge_210110_0739.s300_chunk36', 'CR_lounge_210110_0739.s300_chunk59', 'CR_lounge_210110_0739.s300_chunk26', 'CR_lounge_210110_0739.s300_chunk19', 'CR_lounge_210110_0739.s0_chunk20', 'CR_lounge_210110_0739.s0_chunk51', 'CR_lounge_210110_0739.s0_chunk14', 'CR_lounge_210110_0739.s0_chunk60', 'CR_lounge_210110_0739.s0_chunk15', 'CR_lounge_210110_0739.s0_chunk35', 'CR_lounge_210110_0739.s0_chunk55', 'CR_lounge_210110_0739.s0_chunk4', 'CR_lounge_210110_0739.s0_chunk39', 'CR_lounge_210110_0739.s0_chunk40', 'CR_lounge_210110_0739.s0_chunk30', 'CR_lounge_210110_0739.s0_chunk46', 'CR_lounge_210110_0739.s0_chunk34', 'CR_lounge_210110_0739.s0_chunk10', 'CR_lounge_210110_0739.s0_chunk1', 'CR_lounge_210110_0739.s0_chunk32', 'CR_lounge_210110_0739.s0_chunk56', 'CR_lounge_210110_0739.s0_chunk44', 'CR_lounge_210110_0739.s0_chunk17', 'CR_lounge_210110_0739.s0_chunk28', 'CR_lounge_210110_0739.s0_chunk2', 'CR_lounge_210110_0739.s0_chunk11', 'CR_lounge_210110_0739.s0_chunk9', 'CR_lounge_210110_0739.s0_chunk49', 'CR_lounge_210110_0739.s0_chunk74', 'CR_lounge_210110_0739.s0_chunk54', 'CR_lounge_210110_0739.s0_chunk21', 'CR_lounge_210110_0739.s0_chunk27', 'CR_lounge_210110_0739.s0_chunk61', 'CR_lounge_210110_0739.s0_chunk3', 'CR_lounge_210110_0739.s0_chunk45', 'CR_lounge_210110_0739.s0_chunk50', 'CR_lounge_210110_0739.s0_chunk22', 'CR_lounge_210110_0739.s0_chunk73', 'CR_lounge_210110_0739.s0_chunk8', 'CR_lounge_210110_0739.s0_chunk65', 'CR_lounge_210110_0739.s0_chunk71', 'CR_lounge_210110_0739.s0_chunk19', 'CR_lounge_210110_0739.s0_chunk68', 'CR_lounge_210110_0739.s0_chunk16', 'CR_lounge_230110_1036.s600_chunk62', 'CR_lounge_230110_1036.s600_chunk35', 'CR_lounge_230110_1036.s600_chunk51', 'CR_lounge_230110_1036.s600_chunk48', 'CR_lounge_230110_1036.s600_chunk18', 'CR_lounge_230110_1036.s600_chunk53', 'CR_lounge_230110_1036.s600_chunk7', 'CR_lounge_230110_1036.s600_chunk19', 'CR_lounge_230110_1036.s600_chunk58', 'CR_lounge_230110_1036.s600_chunk25', 'CR_lounge_230110_1036.s600_chunk65', 'CR_lounge_230110_1036.s600_chunk10', 'CR_lounge_230110_1036.s600_chunk64', 'CR_lounge_230110_1036.s600_chunk15', 'CR_lounge_230110_1036.s600_chunk29', 'CR_lounge_230110_1036.s600_chunk22', 'CR_lounge_230110_1036.s600_chunk23', 'CR_lounge_230110_1036.s600_chunk16', 'CR_lounge_230110_1036.s600_chunk27', 'CR_lounge_230110_1036.s600_chunk26', 'CR_lounge_270110_1632.s1500_chunk23', 'CR_lounge_270110_1632.s1500_chunk57', 'CR_lounge_270110_1632.s1500_chunk30', 'CR_lounge_270110_1632.s1500_chunk41', 'CR_lounge_270110_1632.s1500_chunk21', 'CR_lounge_270110_1632.s1500_chunk20', 'CR_lounge_270110_1632.s1500_chunk25', 'CR_lounge_270110_1632.s1500_chunk14', 'CR_lounge_270110_1632.s1500_chunk37', 'CR_lounge_270110_1632.s1500_chunk26', 'CR_lounge_270110_1632.s1500_chunk71', 'CR_lounge_270110_1632.s1500_chunk48', 'CR_lounge_270110_1632.s1500_chunk40', 'CR_lounge_270110_1632.s1500_chunk12', 'CR_lounge_270110_1632.s1500_chunk22', 'CR_lounge_270110_1632.s1500_chunk29', 'CR_lounge_270110_1632.s1500_chunk34', 'CR_lounge_270110_1632.s1500_chunk24', 'CR_lounge_270110_1632.s1500_chunk10', 'CR_lounge_270110_1632.s1500_chunk49', 'CR_lounge_270110_1632.s1500_chunk31', 'CR_lounge_270110_1632.s1500_chunk27', 'CR_lounge_270110_1632.s1500_chunk7', 'CR_lounge_270110_1632.s1500_chunk47', 'CR_lounge_270110_1632.s1500_chunk19', 'CR_lounge_270110_1632.s1500_chunk9', 'CR_lounge_270110_1632.s1500_chunk50', 'CR_lounge_270110_1632.s1500_chunk11', 'CR_lounge_270110_1632.s1500_chunk45', 'CR_lounge_270110_1632.s1500_chunk15', 'CR_lounge_270110_1632.s1500_chunk33', 'CR_lounge_270110_1632.s1500_chunk52', 'CR_lounge_270110_1632.s1500_chunk13', 'CR_lounge_270110_1632.s1500_chunk35', 'CR_lounge_200110_1711.s0_chunk12', 'CR_lounge_200110_1711.s0_chunk1', 'CR_lounge_200110_1711.s0_chunk23', 'CR_lounge_200110_1711.s0_chunk48', 'CR_lounge_200110_1711.s0_chunk45', 'CR_lounge_200110_1711.s0_chunk9', 'CR_lounge_200110_1711.s0_chunk15', 'CR_lounge_200110_1711.s0_chunk57', 'CR_lounge_200110_1711.s0_chunk16', 'CR_lounge_200110_1711.s0_chunk67', 'CR_lounge_200110_1711.s0_chunk52', 'CR_lounge_200110_1711.s0_chunk43', 'CR_lounge_200110_1711.s0_chunk8', 'CR_lounge_200110_1711.s0_chunk28', 'CR_lounge_200110_1711.s0_chunk44', 'CR_lounge_200110_1711.s0_chunk3', 'CR_lounge_200110_1711.s0_chunk5', 'CR_lounge_200110_1711.s0_chunk21', 'CR_lounge_200110_1711.s0_chunk24', 'CR_lounge_200110_1711.s0_chunk26', 'CR_lounge_200110_1711.s0_chunk2', 'CR_lounge_200110_1711.s0_chunk17', 'CR_lounge_200110_1711.s0_chunk56', 'CR_lounge_200110_1711.s0_chunk22', 'CR_lounge_200110_1711.s0_chunk10', 'CR_lounge_200110_1711.s0_chunk39', 'CR_lounge_200110_1711.s0_chunk73', 'CR_lounge_200110_1711.s0_chunk4', 'CR_lounge_200110_1711.s0_chunk66', 'CR_lounge_200110_1711.s0_chunk18', 'CR_lounge_200110_1711.s0_chunk55', 'CR_lounge_200110_1711.s0_chunk19', 'CR_lounge_220110_0731.s1200_chunk65', 'CR_lounge_220110_0731.s1200_chunk46', 'CR_lounge_220110_0731.s1200_chunk40', 'CR_lounge_220110_0731.s1200_chunk72', 'CR_lounge_220110_0731.s1200_chunk39', 'CR_lounge_220110_0731.s1200_chunk61', 'CR_lounge_220110_0731.s1200_chunk63', 'CR_lounge_220110_0731.s1200_chunk50', 'CR_lounge_220110_0731.s1200_chunk29', 'CR_lounge_220110_0731.s1200_chunk64', 'CR_lounge_220110_0731.s1200_chunk22', 'CR_lounge_220110_0731.s1200_chunk59', 'CR_lounge_220110_0731.s1200_chunk9', 'CR_lounge_220110_0731.s1200_chunk44', 'CR_lounge_220110_0731.s1200_chunk2', 'CR_lounge_220110_0731.s1200_chunk27', 'CR_lounge_220110_0731.s1200_chunk28', 'CR_lounge_220110_0731.s1200_chunk5', 'CR_lounge_220110_0731.s1200_chunk45', 'CR_lounge_220110_0731.s1200_chunk10', 'CR_lounge_220110_0731.s1200_chunk31', 'CR_lounge_220110_0731.s1200_chunk42', 'CR_lounge_220110_0731.s1200_chunk36', 'CR_lounge_220110_0731.s1200_chunk73', 'CR_lounge_220110_0731.s1200_chunk16', 'CR_lounge_220110_0731.s1200_chunk53', 'CR_lounge_230110_1501.s1800_chunk71', 'CR_lounge_230110_1501.s1800_chunk25', 'CR_lounge_230110_1501.s1800_chunk4', 'CR_lounge_230110_1501.s1800_chunk14', 'CR_lounge_230110_1501.s1800_chunk51', 'CR_lounge_230110_1501.s1800_chunk12', 'CR_lounge_230110_1501.s1800_chunk72', 'CR_lounge_230110_1501.s1800_chunk56', 'CR_lounge_230110_1501.s1800_chunk73', 'CR_lounge_230110_1501.s1800_chunk46', 'CR_lounge_230110_1501.s1800_chunk55', 'CR_lounge_230110_1501.s1800_chunk11', 'CR_lounge_230110_1501.s1800_chunk17', 'CR_lounge_230110_1501.s1800_chunk58', 'CR_lounge_230110_1501.s1800_chunk47', 'CR_lounge_230110_1501.s1800_chunk44', 'CR_lounge_230110_1501.s1800_chunk49', 'CR_lounge_230110_1501.s1800_chunk36', 'CR_lounge_230110_1501.s1800_chunk10', 'CR_lounge_230110_1501.s1800_chunk3', 'CR_lounge_230110_1501.s1800_chunk70', 'CR_lounge_230110_1501.s1800_chunk42', 'CR_lounge_230110_1501.s1800_chunk50', 'CR_lounge_230110_1501.s1800_chunk31', 'CR_lounge_230110_1501.s1800_chunk74', 'CR_lounge_230110_1501.s1800_chunk34', 'CR_lounge_230110_1501.s1800_chunk65', 'CR_lounge_230110_1501.s1800_chunk43', 'CR_lounge_230110_1501.s1800_chunk40', 'CR_lounge_230110_1501.s1800_chunk24', 'CR_lounge_230110_1501.s1800_chunk30', 'CR_lounge_230110_1501.s1800_chunk16', 'CR_lounge_230110_1501.s1800_chunk41', 'CR_lounge_230110_1501.s1800_chunk28', 'CR_lounge_230110_1501.s1800_chunk57', 'CR_lounge_230110_1501.s1800_chunk1', 'CR_lounge_230110_1501.s1800_chunk54', 'CR_lounge_230110_1501.s1800_chunk37', 'CR_lounge_230110_1501.s1800_chunk48', 'CR_lounge_230110_1501.s1800_chunk33', 'CR_lounge_200110_1601.s3300_chunk47', 'CR_lounge_200110_1601.s3300_chunk62', 'CR_lounge_200110_1601.s3300_chunk10', 'CR_lounge_200110_1601.s3300_chunk57', 'CR_lounge_200110_1601.s3300_chunk2', 'CR_lounge_200110_1601.s3300_chunk11', 'CR_lounge_200110_1601.s3300_chunk49', 'CR_lounge_200110_1601.s3300_chunk63', 'CR_lounge_200110_1601.s3300_chunk43', 'CR_lounge_200110_1601.s3300_chunk27', 'CR_lounge_200110_1601.s3300_chunk46', 'CR_lounge_200110_1601.s3300_chunk53', 'CR_lounge_200110_1601.s3300_chunk1', 'CR_lounge_200110_1601.s3300_chunk50', 'CR_lounge_200110_1601.s3300_chunk61', 'CR_lounge_200110_1601.s3300_chunk45', 'CR_lounge_200110_1601.s3300_chunk33', 'CR_lounge_200110_1601.s3300_chunk0', 'CR_lounge_200110_1601.s3300_chunk54', 'CR_lounge_200110_1601.s3300_chunk59', 'CR_lounge_200110_1601.s3300_chunk39', 'CR_lounge_200110_1601.s3300_chunk51', 'CR_lounge_200110_1601.s3300_chunk71', 'CR_lounge_200110_1601.s3300_chunk13', 'CR_lounge_200110_1601.s3300_chunk32', 'CR_lounge_200110_1601.s3300_chunk56', 'CR_lounge_200110_1601.s3300_chunk67', 'CR_lounge_200110_1601.s3300_chunk64', 'CR_lounge_200110_1601.s3300_chunk41', 'CR_lounge_200110_1601.s3300_chunk22', 'CR_lounge_200110_1601.s3300_chunk60', 'CR_lounge_200110_1601.s3300_chunk74', 'CR_lounge_200110_1601.s3300_chunk15', 'CR_lounge_200110_1601.s3300_chunk14', 'CR_lounge_200110_1601.s3300_chunk48', 'CR_lounge_200110_1601.s3300_chunk23', 'CR_lounge_200110_1601.s3300_chunk20', 'CR_lounge_200110_1601.s3300_chunk69', 'CR_lounge_200110_1601.s3300_chunk19', 'CR_lounge_200110_1601.s3300_chunk73', 'CR_lounge_200110_1601.s3300_chunk40', 'CR_lounge_200110_1601.s3300_chunk55', 'CR_lounge_200110_1601.s3300_chunk12', 'CR_lounge_200110_1601.s3300_chunk30', 'CR_lounge_200110_1601.s3300_chunk28', 'CR_lounge_200110_1601.s3300_chunk38', 'CR_lounge_200110_1601.s3300_chunk70', 'CR_lounge_200110_1601.s3300_chunk34', 'CR_lounge_230110_1501.s3600_chunk54', 'CR_lounge_230110_1501.s3600_chunk36', 'CR_lounge_230110_1501.s3600_chunk16', 'CR_lounge_230110_1501.s3600_chunk50', 'CR_lounge_230110_1501.s3600_chunk28', 'CR_lounge_230110_1501.s3600_chunk42', 'CR_lounge_230110_1501.s3600_chunk13', 'CR_lounge_230110_1501.s3600_chunk52', 'CR_lounge_230110_1501.s3600_chunk53', 'CR_lounge_230110_1501.s3600_chunk37', 'CR_lounge_230110_1501.s3600_chunk15', 'CR_lounge_230110_1501.s3600_chunk74', 'CR_lounge_230110_1501.s3600_chunk62', 'CR_lounge_230110_1501.s3600_chunk71', 'CR_lounge_230110_1501.s3600_chunk48', 'CR_lounge_230110_1501.s3600_chunk58', 'CR_lounge_230110_1501.s3600_chunk14', 'CR_lounge_230110_1501.s3600_chunk21', 'CR_lounge_200110_1601.s900_chunk54', 'CR_lounge_200110_1601.s900_chunk24', 'CR_lounge_200110_1601.s900_chunk39', 'CR_lounge_200110_1601.s900_chunk8', 'CR_lounge_200110_1601.s900_chunk42', 'CR_lounge_200110_1601.s900_chunk62', 'CR_lounge_200110_1601.s900_chunk23', 'CR_lounge_200110_1601.s900_chunk44', 'CR_lounge_200110_1601.s900_chunk60', 'CR_lounge_200110_1601.s900_chunk14', 'CR_lounge_200110_1601.s900_chunk36', 'CR_lounge_200110_1601.s900_chunk43', 'CR_lounge_200110_1601.s900_chunk0', 'CR_lounge_200110_1601.s900_chunk41', 'CR_lounge_200110_1601.s900_chunk71', 'CR_lounge_200110_1601.s900_chunk2', 'CR_lounge_200110_1601.s900_chunk74', 'CR_lounge_200110_1601.s900_chunk30', 'CR_lounge_200110_1601.s900_chunk53', 'CR_lounge_200110_1601.s900_chunk59', 'CR_lounge_200110_1601.s900_chunk67', 'CR_lounge_200110_1601.s900_chunk26', 'CR_lounge_200110_1601.s900_chunk35', 'CR_lounge_200110_1601.s900_chunk20', 'CR_lounge_200110_1601.s900_chunk49', 'CR_lounge_200110_1601.s900_chunk13', 'CR_lounge_200110_1601.s900_chunk69', 'CR_lounge_200110_1601.s900_chunk10', 'CR_lounge_200110_1601.s900_chunk34', 'CR_lounge_200110_1601.s900_chunk58', 'CR_lounge_200110_1601.s900_chunk31', 'CR_lounge_200110_1601.s900_chunk66', 'CR_lounge_200110_1601.s900_chunk17', 'CR_lounge_200110_1601.s900_chunk21', 'CR_lounge_200110_1601.s900_chunk70', 'CR_lounge_200110_1601.s900_chunk64', 'CR_lounge_200110_1601.s900_chunk4', 'CR_lounge_200110_1601.s900_chunk32', 'CR_lounge_200110_1601.s900_chunk56', 'CR_lounge_200110_1601.s900_chunk9', 'CR_lounge_200110_1601.s900_chunk11', 'CR_lounge_200110_1601.s900_chunk46', 'CR_lounge_200110_1601.s900_chunk51', 'CR_lounge_200110_1601.s900_chunk18', 'CR_lounge_200110_1601.s900_chunk12', 'CR_lounge_200110_1601.s900_chunk22', 'CR_lounge_200110_1601.s900_chunk40', 'CR_lounge_200110_1601.s900_chunk7', 'CR_lounge_200110_1601.s900_chunk48', 'CR_lounge_200110_1601.s900_chunk45', 'CR_lounge_200110_1601.s900_chunk19', 'CR_lounge_200110_1601.s900_chunk73', 'CR_lounge_200110_1601.s900_chunk28', 'CR_lounge_200110_1601.s900_chunk37', 'CR_lounge_200110_1601.s900_chunk65', 'CR_lounge_200110_1601.s900_chunk47', 'CR_lounge_200110_1601.s900_chunk38', 'CR_lounge_200110_1601.s900_chunk3', 'CR_lounge_200110_1601.s900_chunk72', 'CR_lounge_200110_1601.s900_chunk16', 'CR_lounge_200110_1601.s900_chunk55', 'CR_lounge_230110_1501.s2400_chunk52', 'CR_lounge_230110_1501.s2400_chunk28', 'CR_lounge_230110_1501.s2400_chunk36', 'CR_lounge_230110_1501.s2400_chunk68', 'CR_lounge_230110_1501.s2400_chunk18', 'CR_lounge_230110_1501.s2400_chunk11', 'CR_lounge_230110_1501.s2400_chunk66', 'CR_lounge_230110_1501.s2400_chunk16', 'CR_lounge_230110_1501.s2400_chunk13', 'CR_lounge_230110_1501.s2400_chunk49', 'CR_lounge_230110_1501.s2400_chunk58', 'CR_lounge_230110_1501.s2400_chunk38', 'CR_lounge_230110_1501.s2400_chunk54', 'CR_lounge_230110_1501.s2400_chunk0', 'CR_lounge_230110_1501.s2400_chunk72', 'CR_lounge_230110_1501.s2400_chunk23', 'CR_lounge_230110_1501.s2400_chunk9', 'CR_lounge_230110_1501.s2400_chunk59', 'CR_lounge_230110_1501.s2400_chunk26', 'CR_lounge_230110_1501.s2400_chunk51', 'CR_lounge_200110_1601.s600_chunk44', 'CR_lounge_200110_1601.s600_chunk28', 'CR_lounge_200110_1601.s600_chunk26', 'CR_lounge_200110_1601.s600_chunk14', 'CR_lounge_200110_1601.s600_chunk24', 'CR_lounge_200110_1601.s600_chunk0', 'CR_lounge_200110_1601.s600_chunk15', 'CR_lounge_200110_1601.s600_chunk25', 'CR_lounge_200110_1601.s600_chunk74', 'CR_lounge_200110_1601.s600_chunk67', 'CR_lounge_200110_1601.s600_chunk2', 'CR_lounge_200110_1601.s600_chunk12', 'CR_lounge_200110_1601.s600_chunk1', 'CR_lounge_200110_1601.s600_chunk53', 'CR_lounge_200110_1601.s600_chunk43', 'CR_lounge_200110_1601.s600_chunk71', 'CR_lounge_200110_1601.s600_chunk45', 'CR_lounge_200110_1601.s600_chunk39', 'CR_lounge_200110_1601.s600_chunk60', 'CR_lounge_200110_1601.s600_chunk48', 'CR_lounge_200110_1601.s600_chunk66', 'CR_lounge_200110_1601.s600_chunk18', 'CR_lounge_200110_1601.s600_chunk5', 'CR_lounge_200110_1601.s600_chunk49', 'CR_lounge_200110_1601.s600_chunk54', 'CR_lounge_200110_1601.s600_chunk35', 'CR_lounge_200110_1601.s600_chunk21', 'CR_lounge_200110_1601.s600_chunk40', 'CR_lounge_200110_1601.s600_chunk17', 'CR_lounge_200110_1601.s600_chunk64', 'CR_lounge_200110_1601.s600_chunk50', 'CR_lounge_200110_1601.s600_chunk32', 'CR_lounge_200110_1601.s600_chunk27', 'CR_lounge_200110_1601.s600_chunk58', 'CR_lounge_200110_1601.s600_chunk13', 'CR_lounge_200110_1601.s600_chunk73', 'CR_lounge_200110_1601.s600_chunk29', 'CR_lounge_200110_1601.s600_chunk11', 'CR_lounge_200110_1601.s600_chunk42', 'CR_lounge_200110_1601.s600_chunk4', 'CR_lounge_200110_1601.s600_chunk72', 'CR_lounge_200110_1601.s600_chunk52', 'CR_lounge_200110_1601.s600_chunk69', 'CR_lounge_200110_1601.s600_chunk33', 'CR_lounge_200110_1601.s600_chunk6', 'CR_lounge_200110_1601.s600_chunk59', 'CR_lounge_200110_1601.s600_chunk10', 'CR_lounge_200110_1601.s600_chunk62', 'CR_lounge_200110_1601.s600_chunk61', 'CR_lounge_200110_1601.s600_chunk56', 'CR_lounge_200110_1601.s600_chunk41', 'CR_lounge_200110_1601.s600_chunk47', 'CR_lounge_200110_1601.s600_chunk3', 'CR_lounge_200110_1601.s600_chunk34', 'CR_lounge_200110_1601.s600_chunk70', 'CR_lounge_200110_1601.s600_chunk8', 'CR_lounge_200110_1601.s600_chunk46', 'CR_lounge_200110_1601.s600_chunk55', 'CR_lounge_200110_1601.s600_chunk30', 'CR_lounge_200110_1601.s600_chunk31', 'CR_lounge_200110_1601.s600_chunk19', 'CR_lounge_200110_1601.s600_chunk7', 'CR_lounge_200110_1601.s600_chunk23', 'CR_lounge_200110_1601.s600_chunk68', 'CR_lounge_220110_0731.s2400_chunk69', 'CR_lounge_220110_0731.s2400_chunk68', 'CR_lounge_220110_0731.s2400_chunk30', 'CR_lounge_220110_0731.s2400_chunk55', 'CR_lounge_220110_0731.s2400_chunk12', 'CR_lounge_220110_0731.s2400_chunk56', 'CR_lounge_220110_0731.s2400_chunk35', 'CR_lounge_220110_0731.s2400_chunk15', 'CR_lounge_220110_0731.s2400_chunk19', 'CR_lounge_220110_0731.s2400_chunk18', 'CR_lounge_230110_1036.s1200_chunk60', 'CR_lounge_230110_1036.s1200_chunk38', 'CR_lounge_230110_1036.s1200_chunk28', 'CR_lounge_230110_1036.s1200_chunk31', 'CR_lounge_230110_1036.s1200_chunk5', 'CR_lounge_230110_1036.s1200_chunk50', 'CR_lounge_230110_1036.s1200_chunk27', 'CR_lounge_230110_1036.s1200_chunk47', 'CR_lounge_230110_1036.s1200_chunk46', 'CR_lounge_230110_1036.s1200_chunk56', 'CR_lounge_230110_1036.s1200_chunk65', 'CR_lounge_230110_1036.s1200_chunk55', 'CR_lounge_230110_1036.s1200_chunk73', 'CR_lounge_230110_1036.s1200_chunk41', 'CR_lounge_230110_1036.s1200_chunk66', 'CR_lounge_230110_1036.s1200_chunk74', 'CR_lounge_230110_1036.s1200_chunk62', 'CR_lounge_230110_1036.s1200_chunk9', 'CR_lounge_230110_1036.s1200_chunk51', 'CR_lounge_230110_1036.s1200_chunk61', 'CR_lounge_230110_1036.s1200_chunk40', 'CR_lounge_230110_1036.s1200_chunk72', 'CR_lounge_230110_1036.s1200_chunk1', 'CR_lounge_230110_1036.s1200_chunk58', 'CR_lounge_230110_1036.s1200_chunk45', 'CR_lounge_230110_1036.s1200_chunk63', 'CR_lounge_230110_1036.s1200_chunk71', 'CR_lounge_230110_1036.s1200_chunk4', 'CR_lounge_230110_1036.s1200_chunk69', 'CR_lounge_230110_1036.s1200_chunk42', 'CR_lounge_230110_1036.s1200_chunk57', 'CR_lounge_230110_1036.s1200_chunk48', 'CR_lounge_230110_1036.s1200_chunk59', 'CR_lounge_230110_1036.s1200_chunk43', 'CR_lounge_230110_1036.s1200_chunk53', 'CR_lounge_230110_1036.s1200_chunk26', 'CR_lounge_270110_1632.s1200_chunk62', 'CR_lounge_270110_1632.s1200_chunk42', 'CR_lounge_270110_1632.s1200_chunk18', 'CR_lounge_270110_1632.s1200_chunk61', 'CR_lounge_270110_1632.s1200_chunk47', 'CR_lounge_270110_1632.s1200_chunk0', 'CR_lounge_270110_1632.s1200_chunk73', 'CR_lounge_270110_1632.s1200_chunk4', 'CR_lounge_270110_1632.s1200_chunk41', 'CR_lounge_270110_1632.s1200_chunk17', 'CR_lounge_270110_1632.s1200_chunk5', 'CR_lounge_270110_1632.s1200_chunk70', 'CR_lounge_270110_1632.s1200_chunk34', 'CR_lounge_270110_1632.s1200_chunk25', 'CR_lounge_270110_1632.s1200_chunk21', 'CR_lounge_270110_1632.s1200_chunk7', 'CR_lounge_270110_1632.s1200_chunk45', 'CR_lounge_270110_1632.s1200_chunk65', 'CR_lounge_270110_1632.s1200_chunk6', 'CR_lounge_270110_1632.s1200_chunk44', 'CR_lounge_270110_1632.s1200_chunk29', 'CR_lounge_270110_1632.s1200_chunk69', 'CR_lounge_270110_1632.s1200_chunk23', 'CR_lounge_270110_1632.s1200_chunk28', 'CR_lounge_270110_1632.s1200_chunk2', 'CR_lounge_270110_1632.s1200_chunk36', 'CR_lounge_270110_1632.s1200_chunk16', 'CR_lounge_270110_1632.s1200_chunk68', 'CR_lounge_270110_1632.s1200_chunk43', 'CR_lounge_270110_1632.s1200_chunk51', 'CR_lounge_270110_1632.s1200_chunk74', 'CR_lounge_270110_1632.s1200_chunk49', 'CR_lounge_270110_1632.s1200_chunk14', 'CR_lounge_270110_1632.s1200_chunk35', 'CR_lounge_270110_1632.s1200_chunk67', 'CR_lounge_270110_1632.s1200_chunk66', 'CR_lounge_270110_1632.s1200_chunk26', 'CR_lounge_270110_1632.s1200_chunk31', 'CR_lounge_270110_1632.s1200_chunk63', 'CR_lounge_270110_1632.s1200_chunk46', 'CR_lounge_270110_1632.s1200_chunk39', 'CR_lounge_270110_1632.s1200_chunk22', 'CR_lounge_270110_1632.s1200_chunk1', 'CR_lounge_270110_1632.s1200_chunk3', 'CR_lounge_270110_1632.s1200_chunk32', 'CR_lounge_270110_1632.s1200_chunk64', 'CR_lounge_270110_1632.s1200_chunk38', 'CR_lounge_270110_1632.s1200_chunk37', 'CR_lounge_270110_1632.s1200_chunk13', 'CR_lounge_270110_1632.s1200_chunk30', 'CR_lounge_270110_1632.s1200_chunk33', 'CR_lounge_270110_1632.s1200_chunk59', 'CR_lounge_270110_1632.s1200_chunk40', 'CR_lounge_270110_1632.s1200_chunk72', 'CR_lounge_270110_1632.s1200_chunk71', 'CR_lounge_270110_1632.s1200_chunk27', 'CR_lounge_220110_0731.s3300_chunk44', 'CR_lounge_220110_0731.s3300_chunk65', 'CR_lounge_220110_0731.s3300_chunk58', 'CR_lounge_220110_0731.s3300_chunk60', 'CR_lounge_220110_0731.s3300_chunk63', 'CR_lounge_220110_0731.s3300_chunk55', 'CR_lounge_220110_0731.s3300_chunk33', 'CR_lounge_220110_0731.s3300_chunk50', 'CR_lounge_220110_0731.s3300_chunk67', 'CR_lounge_220110_0731.s3300_chunk49', 'CR_lounge_220110_0731.s3300_chunk59', 'CR_lounge_220110_0731.s3300_chunk68', 'CR_lounge_220110_0731.s3300_chunk22', 'CR_lounge_220110_0731.s3300_chunk38', 'CR_lounge_220110_0731.s3300_chunk34', 'CR_lounge_220110_0731.s3300_chunk66', 'CR_lounge_220110_0731.s3300_chunk27', 'CR_lounge_220110_0731.s3300_chunk23', 'CR_lounge_200110_1601.s1200_chunk26', 'CR_lounge_200110_1601.s1200_chunk13', 'CR_lounge_200110_1601.s1200_chunk73', 'CR_lounge_200110_1601.s1200_chunk68', 'CR_lounge_200110_1601.s1200_chunk24', 'CR_lounge_200110_1601.s1200_chunk61', 'CR_lounge_200110_1601.s1200_chunk60', 'CR_lounge_200110_1601.s1200_chunk2', 'CR_lounge_200110_1601.s1200_chunk56', 'CR_lounge_200110_1601.s1200_chunk74', 'CR_lounge_200110_1601.s1200_chunk41', 'CR_lounge_200110_1601.s1200_chunk30', 'CR_lounge_200110_1601.s1200_chunk29', 'CR_lounge_200110_1601.s1200_chunk65', 'CR_lounge_200110_1601.s1200_chunk37', 'CR_lounge_200110_1601.s1200_chunk57', 'CR_lounge_200110_1601.s1200_chunk59', 'CR_lounge_200110_1601.s1200_chunk32', 'CR_lounge_200110_1601.s1200_chunk28', 'CR_lounge_200110_1601.s1200_chunk64', 'CR_lounge_200110_1601.s1200_chunk47', 'CR_lounge_200110_1601.s1200_chunk27', 'CR_lounge_200110_1601.s1200_chunk33', 'CR_lounge_200110_1601.s1200_chunk23', 'CR_lounge_200110_1601.s1200_chunk25', 'CR_lounge_200110_1601.s1200_chunk62', 'CR_lounge_200110_1601.s1200_chunk49', 'CR_lounge_200110_1601.s1200_chunk51', 'CR_lounge_200110_1601.s1200_chunk7', 'CR_lounge_200110_1601.s1200_chunk48', 'CR_lounge_200110_1601.s1200_chunk21', 'CR_lounge_200110_1601.s1200_chunk31', 'CR_lounge_200110_1601.s1200_chunk52', 'CR_lounge_200110_1601.s1200_chunk17', 'CR_lounge_200110_1601.s1200_chunk55', 'CR_lounge_200110_1601.s1200_chunk58', 'CR_lounge_200110_1601.s1200_chunk72', 'CR_lounge_200110_1601.s1200_chunk0', 'CR_lounge_200110_1601.s1200_chunk20', 'CR_lounge_200110_1601.s1200_chunk70', 'CR_lounge_200110_1601.s1200_chunk46', 'CR_lounge_200110_1601.s1200_chunk54', 'CR_lounge_200110_1601.s1200_chunk53', 'CR_lounge_200110_1601.s1200_chunk67', 'CR_lounge_200110_1601.s1200_chunk71', 'CR_lounge_200110_1601.s1200_chunk11', 'CR_lounge_200110_1601.s1200_chunk19', 'CR_lounge_200110_1601.s1200_chunk44', 'CR_lounge_200110_1601.s1200_chunk8', 'CR_lounge_200110_1601.s1200_chunk16', 'CR_lounge_200110_1601.s1200_chunk50', 'CR_lounge_200110_1601.s1200_chunk38', 'CR_lounge_200110_1601.s1200_chunk22', 'CR_lounge_200110_1601.s1200_chunk69', 'CR_lounge_200110_1601.s1200_chunk45', 'CR_lounge_200110_1601.s1200_chunk63', 'CR_lounge_200110_1601.s1200_chunk18', 'CR_lounge_200110_1601.s2700_chunk44', 'CR_lounge_200110_1601.s2700_chunk25', 'CR_lounge_200110_1601.s2700_chunk21', 'CR_lounge_200110_1601.s2700_chunk5', 'CR_lounge_200110_1601.s2700_chunk50', 'CR_lounge_200110_1601.s2700_chunk13', 'CR_lounge_200110_1601.s2700_chunk47', 'CR_lounge_200110_1601.s2700_chunk68', 'CR_lounge_200110_1601.s2700_chunk57', 'CR_lounge_200110_1601.s2700_chunk6', 'CR_lounge_200110_1601.s2700_chunk30', 'CR_lounge_200110_1601.s2700_chunk36', 'CR_lounge_200110_1601.s2700_chunk72', 'CR_lounge_200110_1601.s2700_chunk9', 'CR_lounge_200110_1601.s2700_chunk7', 'CR_lounge_200110_1601.s2700_chunk45', 'CR_lounge_200110_1601.s2700_chunk40', 'CR_lounge_200110_1601.s2700_chunk74', 'CR_lounge_200110_1601.s2700_chunk43', 'CR_lounge_200110_1601.s2700_chunk58', 'CR_lounge_200110_1601.s2700_chunk71', 'CR_lounge_200110_1601.s2700_chunk28', 'CR_lounge_200110_1601.s2700_chunk52', 'CR_lounge_200110_1601.s2700_chunk24', 'CR_lounge_200110_1601.s2700_chunk63', 'CR_lounge_200110_1601.s2700_chunk69', 'CR_lounge_200110_1601.s2700_chunk73', 'CR_lounge_200110_1601.s2700_chunk33', 'CR_lounge_200110_1601.s2700_chunk4', 'CR_lounge_200110_1601.s2700_chunk51', 'CR_lounge_200110_1601.s2700_chunk15', 'CR_lounge_200110_1601.s2700_chunk12', 'CR_lounge_200110_1601.s2700_chunk22', 'CR_lounge_200110_1601.s2700_chunk60', 'CR_lounge_200110_1601.s2700_chunk19', 'CR_lounge_200110_1601.s2700_chunk39', 'CR_lounge_200110_1601.s2700_chunk70', 'CR_lounge_200110_1601.s2700_chunk23', 'CR_lounge_200110_1601.s2700_chunk0', 'CR_lounge_200110_1601.s2700_chunk48', 'CR_lounge_200110_1601.s2700_chunk2', 'CR_lounge_200110_1601.s2700_chunk54', 'CR_lounge_200110_1601.s2700_chunk38', 'CR_lounge_200110_1601.s2700_chunk35', 'CR_lounge_200110_1601.s2700_chunk67', 'CR_lounge_200110_1601.s2700_chunk11', 'CR_lounge_200110_1601.s2700_chunk3', 'CR_lounge_200110_1601.s2700_chunk27', 'CR_lounge_200110_1601.s2700_chunk20', 'CR_lounge_200110_1601.s2700_chunk49', 'CR_lounge_200110_1601.s2700_chunk42', 'CR_lounge_200110_1601.s2700_chunk16', 'CR_lounge_200110_1601.s2700_chunk61', 'CR_lounge_200110_1601.s2700_chunk29', 'CR_lounge_200110_1601.s2700_chunk53', 'CR_lounge_200110_1601.s2700_chunk46', 'CR_lounge_200110_1601.s2700_chunk17', 'CR_lounge_200110_1601.s2700_chunk66', 'CR_lounge_200110_1601.s2700_chunk37', 'CR_lounge_200110_1601.s2700_chunk41', 'CR_lounge_200110_1601.s2700_chunk1', 'CR_lounge_200110_1601.s2700_chunk26', 'CR_lounge_200110_1601.s2700_chunk64', 'CR_lounge_200110_1601.s2700_chunk55', 'CR_lounge_200110_1601.s2700_chunk59', 'CR_lounge_200110_1601.s2700_chunk14', 'CR_lounge_200110_1601.s2700_chunk8', 'CR_lounge_200110_1601.s2700_chunk18', 'CR_lounge_200110_1601.s2700_chunk32', 'CR_lounge_200110_1601.s2700_chunk62', 'CR_lounge_200110_1601.s2700_chunk56', 'CR_lounge_200110_1601.s2700_chunk31', 'CR_lounge_200110_1601.s2700_chunk65', 'CR_lounge_220110_0731.s600_chunk58', 'CR_lounge_220110_0731.s600_chunk55', 'CR_lounge_220110_0731.s600_chunk38', 'CR_lounge_220110_0731.s600_chunk44', 'CR_lounge_220110_0731.s600_chunk29', 'CR_lounge_220110_0731.s600_chunk63', 'CR_lounge_220110_0731.s600_chunk43', 'CR_lounge_220110_0731.s600_chunk62', 'CR_lounge_220110_0731.s600_chunk21', 'CR_lounge_220110_0731.s600_chunk10', 'CR_lounge_220110_0731.s600_chunk1', 'CR_lounge_220110_0731.s600_chunk4', 'CR_lounge_220110_0731.s600_chunk31', 'CR_lounge_220110_0731.s600_chunk6', 'CR_lounge_220110_0731.s600_chunk54', 'CR_lounge_220110_0731.s600_chunk57', 'CR_lounge_220110_0731.s600_chunk28', 'CR_lounge_220110_0731.s600_chunk2', 'CR_lounge_220110_0731.s600_chunk73', 'CR_lounge_220110_0731.s600_chunk72', 'CR_lounge_220110_0731.s600_chunk49', 'CR_lounge_220110_0731.s600_chunk25', 'CR_lounge_220110_0731.s600_chunk61', 'CR_lounge_220110_0731.s600_chunk35', 'CR_lounge_220110_0731.s600_chunk66', 'CR_lounge_220110_0731.s600_chunk19', 'CR_lounge_210110_0739.s900_chunk47', 'CR_lounge_210110_0739.s900_chunk44', 'CR_lounge_210110_0739.s900_chunk21', 'CR_lounge_210110_0739.s900_chunk53', 'CR_lounge_210110_0739.s900_chunk33', 'CR_lounge_210110_0739.s900_chunk62', 'CR_lounge_210110_0739.s900_chunk15', 'CR_lounge_210110_0739.s900_chunk72', 'CR_lounge_210110_0739.s900_chunk60', 'CR_lounge_210110_0739.s900_chunk51', 'CR_lounge_210110_0739.s900_chunk57', 'CR_lounge_210110_0739.s900_chunk17', 'CR_lounge_210110_0739.s900_chunk6', 'CR_lounge_210110_0739.s900_chunk46', 'CR_lounge_210110_0739.s900_chunk38', 'CR_lounge_210110_0739.s900_chunk67', 'CR_lounge_210110_0739.s900_chunk4', 'CR_lounge_210110_0739.s900_chunk61', 'CR_lounge_210110_0739.s900_chunk66', 'CR_lounge_210110_0739.s900_chunk26', 'CR_lounge_210110_0739.s900_chunk71', 'CR_lounge_210110_0739.s900_chunk40', 'CR_lounge_210110_0739.s900_chunk55', 'CR_lounge_210110_0739.s900_chunk19', 'CR_lounge_210110_0739.s900_chunk68', 'CR_lounge_210110_0739.s900_chunk30', 'CR_lounge_210110_0739.s900_chunk28', 'CR_lounge_210110_0739.s900_chunk56', 'CR_lounge_210110_0739.s900_chunk22', 'CR_lounge_210110_0739.s900_chunk18', 'CR_lounge_220110_0731.s900_chunk64', 'CR_lounge_220110_0731.s900_chunk33', 'CR_lounge_220110_0731.s900_chunk27', 'CR_lounge_220110_0731.s900_chunk57', 'CR_lounge_220110_0731.s900_chunk1', 'CR_lounge_220110_0731.s900_chunk14', 'CR_lounge_220110_0731.s900_chunk17', 'CR_lounge_220110_0731.s900_chunk6', 'CR_lounge_220110_0731.s900_chunk49', 'CR_lounge_220110_0731.s900_chunk7', 'CR_lounge_220110_0731.s900_chunk44', 'CR_lounge_220110_0731.s900_chunk56', 'CR_lounge_220110_0731.s900_chunk61', 'CR_lounge_220110_0731.s900_chunk51', 'CR_lounge_220110_0731.s900_chunk16', 'CR_lounge_220110_0731.s900_chunk19', 'CR_lounge_220110_0731.s900_chunk52', 'CR_lounge_220110_0731.s900_chunk45', 'CR_lounge_220110_0731.s900_chunk30', 'CR_lounge_220110_0731.s900_chunk40', 'CR_lounge_220110_0731.s900_chunk72', 'CR_lounge_270110_1632.s3600_chunk32', 'CR_lounge_270110_1632.s3600_chunk44', 'CR_lounge_270110_1632.s3600_chunk58', 'CR_lounge_270110_1632.s3600_chunk73', 'CR_lounge_270110_1632.s3600_chunk33', 'CR_lounge_270110_1632.s3600_chunk63', 'CR_lounge_270110_1632.s3600_chunk21', 'CR_lounge_270110_1632.s3600_chunk70', 'CR_lounge_270110_1632.s3600_chunk40', 'CR_lounge_270110_1632.s3600_chunk24', 'CR_lounge_270110_1632.s3600_chunk17', 'CR_lounge_270110_1632.s3600_chunk50', 'CR_lounge_270110_1632.s3600_chunk39', 'CR_lounge_270110_1632.s3600_chunk42', 'CR_lounge_270110_1632.s3600_chunk25', 'CR_lounge_270110_1632.s3600_chunk34', 'CR_lounge_270110_1632.s3600_chunk18', 'CR_lounge_270110_1632.s3600_chunk3', 'CR_lounge_270110_1632.s3600_chunk30', 'CR_lounge_270110_1632.s3600_chunk7', 'CR_lounge_270110_1632.s3600_chunk29', 'CR_lounge_270110_1632.s3600_chunk69', 'CR_lounge_270110_1632.s3600_chunk51', 'CR_lounge_270110_1632.s3600_chunk6', 'CR_lounge_270110_1632.s3600_chunk41', 'CR_lounge_270110_1632.s3600_chunk20', 'CR_lounge_270110_1632.s3600_chunk5', 'CR_lounge_270110_1632.s3600_chunk19', 'CR_lounge_270110_1632.s3600_chunk11', 'CR_lounge_270110_1632.s3600_chunk22', 'CR_lounge_270110_1632.s3900_chunk11', 'CR_lounge_270110_1632.s3900_chunk3', 'CR_lounge_270110_1632.s3900_chunk27', 'CR_lounge_270110_1632.s3900_chunk39', 'CR_lounge_270110_1632.s3900_chunk41', 'CR_lounge_270110_1632.s3900_chunk20', 'CR_lounge_270110_1632.s3900_chunk48', 'CR_lounge_270110_1632.s3900_chunk40', 'CR_lounge_270110_1632.s3900_chunk5', 'CR_lounge_270110_1632.s3900_chunk32', 'CR_lounge_270110_1632.s3900_chunk18', 'CR_lounge_270110_1632.s3900_chunk43', 'CR_lounge_270110_1632.s3900_chunk54', 'CR_lounge_270110_1632.s3900_chunk35', 'CR_lounge_270110_1632.s3900_chunk67', 'CR_lounge_270110_1632.s3900_chunk66', 'CR_lounge_270110_1632.s3900_chunk37', 'CR_lounge_270110_1632.s3900_chunk36', 'CR_lounge_270110_1632.s3900_chunk1', 'CR_lounge_270110_1632.s3900_chunk13', 'CR_lounge_270110_1632.s3900_chunk64', 'CR_lounge_270110_1632.s3900_chunk17', 'CR_lounge_270110_1632.s3900_chunk73', 'CR_lounge_270110_1632.s3900_chunk0', 'CR_lounge_270110_1632.s3900_chunk59', 'CR_lounge_270110_1632.s3900_chunk10', 'CR_lounge_270110_1632.s3900_chunk65', 'CR_lounge_270110_1632.s3900_chunk30', 'CR_lounge_270110_1632.s3900_chunk4', 'CR_lounge_270110_1632.s3900_chunk9'])"
      ]
     },
     "execution_count": 72,
     "metadata": {},
     "output_type": "execute_result"
    }
   ],
   "source": []
  },
  {
   "cell_type": "code",
   "execution_count": 38,
   "metadata": {
    "ExecuteTime": {
     "end_time": "2019-10-22T22:50:16.916641Z",
     "start_time": "2019-10-22T22:50:16.191687Z"
    }
   },
   "outputs": [],
   "source": [
    "\n",
    "codec ='.48kHz.wav'\n",
    "chunkname = 'CR_lounge_220110_0731.s0_chunk27'\n",
    "chunk_filename = f'{data_chunks}{chunkname}{codec}'\n",
    "features_one = extract_features(chunk_filename)\n"
   ]
  },
  {
   "cell_type": "code",
   "execution_count": 39,
   "metadata": {
    "ExecuteTime": {
     "end_time": "2019-10-22T22:51:34.406458Z",
     "start_time": "2019-10-22T22:51:34.402942Z"
    }
   },
   "outputs": [
    {
     "data": {
      "text/plain": [
       "13"
      ]
     },
     "execution_count": 39,
     "metadata": {},
     "output_type": "execute_result"
    }
   ],
   "source": [
    "len(features_one['mfcc_delta'])"
   ]
  },
  {
   "cell_type": "code",
   "execution_count": 125,
   "metadata": {
    "ExecuteTime": {
     "end_time": "2019-10-28T05:28:23.293190Z",
     "start_time": "2019-10-28T05:28:23.289368Z"
    }
   },
   "outputs": [
    {
     "data": {
      "text/plain": [
       "26"
      ]
     },
     "execution_count": 125,
     "metadata": {},
     "output_type": "execute_result"
    }
   ],
   "source": [
    "len(features_one['beat_mfcc_delta'])"
   ]
  },
  {
   "cell_type": "code",
   "execution_count": 62,
   "metadata": {
    "ExecuteTime": {
     "end_time": "2019-10-22T23:17:10.658303Z",
     "start_time": "2019-10-22T23:17:10.653822Z"
    }
   },
   "outputs": [],
   "source": [
    "scaler = StandardScaler()\n",
    "\n",
    "variance_explained = 0.95\n",
    "n_components = 10\n",
    "# pca = PCA(variance_explained)\n",
    "pca = PCA(n_components = n_components)\n",
    "\n",
    "features_one_df = pd.DataFrame(features_one['mfcc'])\n",
    "# features_one_train = scaler.fit_transform(features_one_df)\n",
    "principalComponents = pca.fit_transform(features_one_train)\n",
    "# principalDf = pd.DataFrame(data = principalComponents\n",
    "#              , columns = ['principal component 1', 'principal component 2'])\n"
   ]
  },
  {
   "cell_type": "code",
   "execution_count": 68,
   "metadata": {
    "ExecuteTime": {
     "end_time": "2019-10-22T23:19:50.671173Z",
     "start_time": "2019-10-22T23:19:50.667929Z"
    }
   },
   "outputs": [],
   "source": [
    "pcaDF = pd.DataFrame(data=principalComponents)"
   ]
  },
  {
   "cell_type": "code",
   "execution_count": 70,
   "metadata": {
    "ExecuteTime": {
     "end_time": "2019-10-22T23:20:26.892492Z",
     "start_time": "2019-10-22T23:20:26.888949Z"
    }
   },
   "outputs": [
    {
     "data": {
      "text/plain": [
       "(13, 10)"
      ]
     },
     "execution_count": 70,
     "metadata": {},
     "output_type": "execute_result"
    }
   ],
   "source": [
    "pcaDF.shape"
   ]
  },
  {
   "cell_type": "code",
   "execution_count": 63,
   "metadata": {
    "ExecuteTime": {
     "end_time": "2019-10-22T23:17:29.003523Z",
     "start_time": "2019-10-22T23:17:28.995691Z"
    }
   },
   "outputs": [
    {
     "ename": "AttributeError",
     "evalue": "'numpy.ndarray' object has no attribute 'explained_variance_ratio_'",
     "output_type": "error",
     "traceback": [
      "\u001b[0;31m---------------------------------------------------------------------------\u001b[0m",
      "\u001b[0;31mAttributeError\u001b[0m                            Traceback (most recent call last)",
      "\u001b[0;32m<ipython-input-63-edb2f7dfb6d8>\u001b[0m in \u001b[0;36m<module>\u001b[0;34m\u001b[0m\n\u001b[0;32m----> 1\u001b[0;31m \u001b[0mprincipalComponents\u001b[0m\u001b[0;34m.\u001b[0m\u001b[0mexplained_variance_ratio_\u001b[0m\u001b[0;34m\u001b[0m\u001b[0;34m\u001b[0m\u001b[0m\n\u001b[0m",
      "\u001b[0;31mAttributeError\u001b[0m: 'numpy.ndarray' object has no attribute 'explained_variance_ratio_'"
     ]
    }
   ],
   "source": [
    "principalComponents.explained_variance_ratio_"
   ]
  },
  {
   "cell_type": "code",
   "execution_count": 71,
   "metadata": {
    "ExecuteTime": {
     "end_time": "2019-10-22T23:28:46.527395Z",
     "start_time": "2019-10-22T23:28:46.515730Z"
    }
   },
   "outputs": [
    {
     "data": {
      "text/html": [
       "<div>\n",
       "<style scoped>\n",
       "    .dataframe tbody tr th:only-of-type {\n",
       "        vertical-align: middle;\n",
       "    }\n",
       "\n",
       "    .dataframe tbody tr th {\n",
       "        vertical-align: top;\n",
       "    }\n",
       "\n",
       "    .dataframe thead th {\n",
       "        text-align: right;\n",
       "    }\n",
       "</style>\n",
       "<table border=\"1\" class=\"dataframe\">\n",
       "  <thead>\n",
       "    <tr style=\"text-align: right;\">\n",
       "      <th></th>\n",
       "      <th>segmentname</th>\n",
       "      <th>chunknumber</th>\n",
       "      <th>framestart</th>\n",
       "      <th>annotation_a1</th>\n",
       "      <th>session_a1</th>\n",
       "      <th>annotation_a2</th>\n",
       "      <th>session_a2</th>\n",
       "      <th>annotation_a3</th>\n",
       "      <th>session_a3</th>\n",
       "      <th>majorityvote</th>\n",
       "      <th>chunkname</th>\n",
       "      <th>human_voice</th>\n",
       "    </tr>\n",
       "  </thead>\n",
       "  <tbody>\n",
       "    <tr>\n",
       "      <td>1</td>\n",
       "      <td>CR_lounge_220110_0731.s0</td>\n",
       "      <td>27</td>\n",
       "      <td>5184000</td>\n",
       "      <td>cp</td>\n",
       "      <td>4.0</td>\n",
       "      <td>cop</td>\n",
       "      <td>2.0</td>\n",
       "      <td>cop</td>\n",
       "      <td>4.0</td>\n",
       "      <td>cop</td>\n",
       "      <td>CR_lounge_220110_0731.s0_chunk27</td>\n",
       "      <td>1</td>\n",
       "    </tr>\n",
       "  </tbody>\n",
       "</table>\n",
       "</div>"
      ],
      "text/plain": [
       "0               segmentname chunknumber framestart annotation_a1 session_a1  \\\n",
       "1  CR_lounge_220110_0731.s0          27    5184000            cp        4.0   \n",
       "\n",
       "0 annotation_a2 session_a2 annotation_a3 session_a3 majorityvote  \\\n",
       "1           cop        2.0           cop        4.0          cop   \n",
       "\n",
       "0                         chunkname  human_voice  \n",
       "1  CR_lounge_220110_0731.s0_chunk27            1  "
      ]
     },
     "execution_count": 71,
     "metadata": {},
     "output_type": "execute_result"
    }
   ],
   "source": [
    "df.head(1)"
   ]
  },
  {
   "cell_type": "code",
   "execution_count": 104,
   "metadata": {
    "ExecuteTime": {
     "end_time": "2019-10-22T23:52:57.820641Z",
     "start_time": "2019-10-22T23:52:57.816261Z"
    }
   },
   "outputs": [],
   "source": [
    "def create_overwhelming(df, features):\n",
    "    results = []\n",
    "    \n",
    "    for index, row in df.iterrows():\n",
    "        chunkname = row['chunkname']\n",
    "        feature = features[chunkname]['mfcc']\n",
    "        is_human = row['human_voice']\n",
    "        flattened = np.array(feature).flatten().tolist()\n",
    "        flattened.insert(0, chunkname)\n",
    "        flattened.insert(0, is_human)\n",
    "        results.append(flattened)\n",
    "                \n",
    "    return pd.DataFrame(results)\n",
    "        "
   ]
  },
  {
   "cell_type": "code",
   "execution_count": 98,
   "metadata": {
    "ExecuteTime": {
     "end_time": "2019-10-22T23:48:52.650620Z",
     "start_time": "2019-10-22T23:48:52.647484Z"
    }
   },
   "outputs": [],
   "source": [
    "edf = pd.DataFrame([['a', 1, 2], ['b', 2, 3]], columns=['chunkname', 'human_voice', 'two'])\n"
   ]
  },
  {
   "cell_type": "code",
   "execution_count": 101,
   "metadata": {
    "ExecuteTime": {
     "end_time": "2019-10-22T23:50:41.462221Z",
     "start_time": "2019-10-22T23:50:41.453514Z"
    }
   },
   "outputs": [
    {
     "data": {
      "text/html": [
       "<div>\n",
       "<style scoped>\n",
       "    .dataframe tbody tr th:only-of-type {\n",
       "        vertical-align: middle;\n",
       "    }\n",
       "\n",
       "    .dataframe tbody tr th {\n",
       "        vertical-align: top;\n",
       "    }\n",
       "\n",
       "    .dataframe thead th {\n",
       "        text-align: right;\n",
       "    }\n",
       "</style>\n",
       "<table border=\"1\" class=\"dataframe\">\n",
       "  <thead>\n",
       "    <tr style=\"text-align: right;\">\n",
       "      <th></th>\n",
       "      <th>0</th>\n",
       "      <th>1</th>\n",
       "      <th>2</th>\n",
       "      <th>3</th>\n",
       "      <th>4</th>\n",
       "      <th>5</th>\n",
       "      <th>6</th>\n",
       "      <th>7</th>\n",
       "    </tr>\n",
       "  </thead>\n",
       "  <tbody>\n",
       "    <tr>\n",
       "      <td>0</td>\n",
       "      <td>1</td>\n",
       "      <td>a</td>\n",
       "      <td>1</td>\n",
       "      <td>2</td>\n",
       "      <td>3</td>\n",
       "      <td>4</td>\n",
       "      <td>5</td>\n",
       "      <td>6</td>\n",
       "    </tr>\n",
       "    <tr>\n",
       "      <td>1</td>\n",
       "      <td>2</td>\n",
       "      <td>b</td>\n",
       "      <td>2</td>\n",
       "      <td>4</td>\n",
       "      <td>5</td>\n",
       "      <td>3</td>\n",
       "      <td>6</td>\n",
       "      <td>9</td>\n",
       "    </tr>\n",
       "  </tbody>\n",
       "</table>\n",
       "</div>"
      ],
      "text/plain": [
       "   0  1  2  3  4  5  6  7\n",
       "0  1  a  1  2  3  4  5  6\n",
       "1  2  b  2  4  5  3  6  9"
      ]
     },
     "execution_count": 101,
     "metadata": {},
     "output_type": "execute_result"
    }
   ],
   "source": [
    "create_overwhelming(edf, {'a': [[1,2,3], [4, 5, 6]], 'b': [[2,4, 5], [3, 6, 9]]})"
   ]
  },
  {
   "cell_type": "code",
   "execution_count": 105,
   "metadata": {
    "ExecuteTime": {
     "end_time": "2019-10-22T23:53:17.495751Z",
     "start_time": "2019-10-22T23:53:16.657897Z"
    }
   },
   "outputs": [],
   "source": [
    "mdf = create_overwhelming(df, all_features)"
   ]
  },
  {
   "cell_type": "code",
   "execution_count": 119,
   "metadata": {
    "ExecuteTime": {
     "end_time": "2019-10-25T07:30:37.921876Z",
     "start_time": "2019-10-25T07:30:37.867334Z"
    }
   },
   "outputs": [
    {
     "data": {
      "text/html": [
       "<div>\n",
       "<style scoped>\n",
       "    .dataframe tbody tr th:only-of-type {\n",
       "        vertical-align: middle;\n",
       "    }\n",
       "\n",
       "    .dataframe tbody tr th {\n",
       "        vertical-align: top;\n",
       "    }\n",
       "\n",
       "    .dataframe thead th {\n",
       "        text-align: right;\n",
       "    }\n",
       "</style>\n",
       "<table border=\"1\" class=\"dataframe\">\n",
       "  <thead>\n",
       "    <tr style=\"text-align: right;\">\n",
       "      <th></th>\n",
       "      <th>0</th>\n",
       "      <th>1</th>\n",
       "      <th>2</th>\n",
       "      <th>3</th>\n",
       "      <th>4</th>\n",
       "      <th>5</th>\n",
       "      <th>6</th>\n",
       "      <th>7</th>\n",
       "      <th>8</th>\n",
       "      <th>9</th>\n",
       "      <th>...</th>\n",
       "      <th>2241</th>\n",
       "      <th>2242</th>\n",
       "      <th>2243</th>\n",
       "      <th>2244</th>\n",
       "      <th>2245</th>\n",
       "      <th>2246</th>\n",
       "      <th>2247</th>\n",
       "      <th>2248</th>\n",
       "      <th>2249</th>\n",
       "      <th>2250</th>\n",
       "    </tr>\n",
       "  </thead>\n",
       "  <tbody>\n",
       "    <tr>\n",
       "      <td>0</td>\n",
       "      <td>1</td>\n",
       "      <td>CR_lounge_220110_0731.s0_chunk27</td>\n",
       "      <td>-460.032135</td>\n",
       "      <td>-450.238831</td>\n",
       "      <td>-433.465759</td>\n",
       "      <td>-407.766632</td>\n",
       "      <td>-386.450592</td>\n",
       "      <td>-373.867249</td>\n",
       "      <td>-373.253204</td>\n",
       "      <td>-376.718170</td>\n",
       "      <td>...</td>\n",
       "      <td>-6.015262</td>\n",
       "      <td>-10.757653</td>\n",
       "      <td>-11.165491</td>\n",
       "      <td>-10.607825</td>\n",
       "      <td>-13.730804</td>\n",
       "      <td>-6.789348</td>\n",
       "      <td>-6.029935</td>\n",
       "      <td>-3.624697</td>\n",
       "      <td>-0.950168</td>\n",
       "      <td>-2.479859</td>\n",
       "    </tr>\n",
       "    <tr>\n",
       "      <td>1</td>\n",
       "      <td>1</td>\n",
       "      <td>CR_lounge_220110_0731.s0_chunk18</td>\n",
       "      <td>-502.901642</td>\n",
       "      <td>-439.566284</td>\n",
       "      <td>-310.146912</td>\n",
       "      <td>-196.677322</td>\n",
       "      <td>-143.958191</td>\n",
       "      <td>-121.890251</td>\n",
       "      <td>-115.686531</td>\n",
       "      <td>-125.213715</td>\n",
       "      <td>...</td>\n",
       "      <td>3.277682</td>\n",
       "      <td>-0.587493</td>\n",
       "      <td>0.046199</td>\n",
       "      <td>-4.752885</td>\n",
       "      <td>-4.910209</td>\n",
       "      <td>-0.153703</td>\n",
       "      <td>-1.368832</td>\n",
       "      <td>-1.928573</td>\n",
       "      <td>-0.542693</td>\n",
       "      <td>1.211689</td>\n",
       "    </tr>\n",
       "    <tr>\n",
       "      <td>2</td>\n",
       "      <td>1</td>\n",
       "      <td>CR_lounge_220110_0731.s0_chunk70</td>\n",
       "      <td>-480.194031</td>\n",
       "      <td>-484.733093</td>\n",
       "      <td>-501.425995</td>\n",
       "      <td>-518.882568</td>\n",
       "      <td>-535.860840</td>\n",
       "      <td>-542.206970</td>\n",
       "      <td>-546.596130</td>\n",
       "      <td>-554.124207</td>\n",
       "      <td>...</td>\n",
       "      <td>2.304256</td>\n",
       "      <td>-0.185979</td>\n",
       "      <td>-5.010571</td>\n",
       "      <td>-1.363904</td>\n",
       "      <td>-4.386158</td>\n",
       "      <td>-3.691793</td>\n",
       "      <td>-0.323971</td>\n",
       "      <td>0.286205</td>\n",
       "      <td>-1.644120</td>\n",
       "      <td>-5.086028</td>\n",
       "    </tr>\n",
       "    <tr>\n",
       "      <td>3</td>\n",
       "      <td>0</td>\n",
       "      <td>CR_lounge_220110_0731.s0_chunk0</td>\n",
       "      <td>-529.249451</td>\n",
       "      <td>-530.759338</td>\n",
       "      <td>-543.135010</td>\n",
       "      <td>-550.916077</td>\n",
       "      <td>-557.480408</td>\n",
       "      <td>-557.828857</td>\n",
       "      <td>-552.620728</td>\n",
       "      <td>-554.126343</td>\n",
       "      <td>...</td>\n",
       "      <td>5.934577</td>\n",
       "      <td>7.152072</td>\n",
       "      <td>11.320415</td>\n",
       "      <td>5.753222</td>\n",
       "      <td>1.330544</td>\n",
       "      <td>0.047888</td>\n",
       "      <td>0.675164</td>\n",
       "      <td>3.985723</td>\n",
       "      <td>1.067848</td>\n",
       "      <td>2.220659</td>\n",
       "    </tr>\n",
       "    <tr>\n",
       "      <td>4</td>\n",
       "      <td>1</td>\n",
       "      <td>CR_lounge_220110_0731.s0_chunk39</td>\n",
       "      <td>-298.271423</td>\n",
       "      <td>-308.898071</td>\n",
       "      <td>-320.336212</td>\n",
       "      <td>-311.373444</td>\n",
       "      <td>-325.856323</td>\n",
       "      <td>-309.311768</td>\n",
       "      <td>-279.476776</td>\n",
       "      <td>-276.182343</td>\n",
       "      <td>...</td>\n",
       "      <td>0.901431</td>\n",
       "      <td>1.238960</td>\n",
       "      <td>1.377512</td>\n",
       "      <td>2.657545</td>\n",
       "      <td>5.603203</td>\n",
       "      <td>5.593097</td>\n",
       "      <td>3.590163</td>\n",
       "      <td>-0.245241</td>\n",
       "      <td>1.755665</td>\n",
       "      <td>1.943853</td>\n",
       "    </tr>\n",
       "    <tr>\n",
       "      <td>...</td>\n",
       "      <td>...</td>\n",
       "      <td>...</td>\n",
       "      <td>...</td>\n",
       "      <td>...</td>\n",
       "      <td>...</td>\n",
       "      <td>...</td>\n",
       "      <td>...</td>\n",
       "      <td>...</td>\n",
       "      <td>...</td>\n",
       "      <td>...</td>\n",
       "      <td>...</td>\n",
       "      <td>...</td>\n",
       "      <td>...</td>\n",
       "      <td>...</td>\n",
       "      <td>...</td>\n",
       "      <td>...</td>\n",
       "      <td>...</td>\n",
       "      <td>...</td>\n",
       "      <td>...</td>\n",
       "      <td>...</td>\n",
       "      <td>...</td>\n",
       "    </tr>\n",
       "    <tr>\n",
       "      <td>1941</td>\n",
       "      <td>1</td>\n",
       "      <td>CR_lounge_270110_1632.s3900_chunk10</td>\n",
       "      <td>-354.801300</td>\n",
       "      <td>-357.910431</td>\n",
       "      <td>-368.541931</td>\n",
       "      <td>-373.195923</td>\n",
       "      <td>-373.310944</td>\n",
       "      <td>-382.509979</td>\n",
       "      <td>-384.369232</td>\n",
       "      <td>-388.606354</td>\n",
       "      <td>...</td>\n",
       "      <td>4.950514</td>\n",
       "      <td>10.983016</td>\n",
       "      <td>10.041251</td>\n",
       "      <td>7.969370</td>\n",
       "      <td>11.732731</td>\n",
       "      <td>11.466062</td>\n",
       "      <td>8.036340</td>\n",
       "      <td>4.825058</td>\n",
       "      <td>8.576981</td>\n",
       "      <td>16.337179</td>\n",
       "    </tr>\n",
       "    <tr>\n",
       "      <td>1942</td>\n",
       "      <td>1</td>\n",
       "      <td>CR_lounge_270110_1632.s3900_chunk65</td>\n",
       "      <td>-491.656494</td>\n",
       "      <td>-489.575439</td>\n",
       "      <td>-493.648773</td>\n",
       "      <td>-500.193115</td>\n",
       "      <td>-511.542725</td>\n",
       "      <td>-508.556885</td>\n",
       "      <td>-505.326843</td>\n",
       "      <td>-491.686676</td>\n",
       "      <td>...</td>\n",
       "      <td>4.541065</td>\n",
       "      <td>8.230209</td>\n",
       "      <td>3.416269</td>\n",
       "      <td>-4.567317</td>\n",
       "      <td>-7.928992</td>\n",
       "      <td>-2.784325</td>\n",
       "      <td>-1.224775</td>\n",
       "      <td>3.923793</td>\n",
       "      <td>8.971301</td>\n",
       "      <td>10.247086</td>\n",
       "    </tr>\n",
       "    <tr>\n",
       "      <td>1943</td>\n",
       "      <td>1</td>\n",
       "      <td>CR_lounge_270110_1632.s3900_chunk30</td>\n",
       "      <td>-149.878922</td>\n",
       "      <td>-174.841553</td>\n",
       "      <td>-231.188690</td>\n",
       "      <td>-234.239349</td>\n",
       "      <td>-237.411102</td>\n",
       "      <td>-248.221985</td>\n",
       "      <td>-254.781311</td>\n",
       "      <td>-247.807007</td>\n",
       "      <td>...</td>\n",
       "      <td>8.815567</td>\n",
       "      <td>6.748887</td>\n",
       "      <td>1.594312</td>\n",
       "      <td>-2.088048</td>\n",
       "      <td>-2.859728</td>\n",
       "      <td>-3.648098</td>\n",
       "      <td>-3.201086</td>\n",
       "      <td>-9.748062</td>\n",
       "      <td>-12.836238</td>\n",
       "      <td>-15.898949</td>\n",
       "    </tr>\n",
       "    <tr>\n",
       "      <td>1944</td>\n",
       "      <td>1</td>\n",
       "      <td>CR_lounge_270110_1632.s3900_chunk4</td>\n",
       "      <td>-264.232422</td>\n",
       "      <td>-222.985672</td>\n",
       "      <td>-199.127640</td>\n",
       "      <td>-203.703552</td>\n",
       "      <td>-231.866257</td>\n",
       "      <td>-250.831497</td>\n",
       "      <td>-242.183167</td>\n",
       "      <td>-268.898834</td>\n",
       "      <td>...</td>\n",
       "      <td>6.745681</td>\n",
       "      <td>5.941745</td>\n",
       "      <td>4.545578</td>\n",
       "      <td>4.087250</td>\n",
       "      <td>5.432576</td>\n",
       "      <td>6.580695</td>\n",
       "      <td>6.017241</td>\n",
       "      <td>5.096549</td>\n",
       "      <td>5.172022</td>\n",
       "      <td>6.060733</td>\n",
       "    </tr>\n",
       "    <tr>\n",
       "      <td>1945</td>\n",
       "      <td>1</td>\n",
       "      <td>CR_lounge_270110_1632.s3900_chunk9</td>\n",
       "      <td>-426.177887</td>\n",
       "      <td>-384.747101</td>\n",
       "      <td>-331.668945</td>\n",
       "      <td>-302.755371</td>\n",
       "      <td>-301.522552</td>\n",
       "      <td>-315.138855</td>\n",
       "      <td>-324.281891</td>\n",
       "      <td>-332.758850</td>\n",
       "      <td>...</td>\n",
       "      <td>9.366126</td>\n",
       "      <td>7.594479</td>\n",
       "      <td>5.078589</td>\n",
       "      <td>5.972225</td>\n",
       "      <td>3.424716</td>\n",
       "      <td>4.721066</td>\n",
       "      <td>12.546980</td>\n",
       "      <td>6.688160</td>\n",
       "      <td>4.267544</td>\n",
       "      <td>5.074432</td>\n",
       "    </tr>\n",
       "  </tbody>\n",
       "</table>\n",
       "<p>1946 rows × 2251 columns</p>\n",
       "</div>"
      ],
      "text/plain": [
       "      0                                    1           2           3     \\\n",
       "0        1     CR_lounge_220110_0731.s0_chunk27 -460.032135 -450.238831   \n",
       "1        1     CR_lounge_220110_0731.s0_chunk18 -502.901642 -439.566284   \n",
       "2        1     CR_lounge_220110_0731.s0_chunk70 -480.194031 -484.733093   \n",
       "3        0      CR_lounge_220110_0731.s0_chunk0 -529.249451 -530.759338   \n",
       "4        1     CR_lounge_220110_0731.s0_chunk39 -298.271423 -308.898071   \n",
       "...    ...                                  ...         ...         ...   \n",
       "1941     1  CR_lounge_270110_1632.s3900_chunk10 -354.801300 -357.910431   \n",
       "1942     1  CR_lounge_270110_1632.s3900_chunk65 -491.656494 -489.575439   \n",
       "1943     1  CR_lounge_270110_1632.s3900_chunk30 -149.878922 -174.841553   \n",
       "1944     1   CR_lounge_270110_1632.s3900_chunk4 -264.232422 -222.985672   \n",
       "1945     1   CR_lounge_270110_1632.s3900_chunk9 -426.177887 -384.747101   \n",
       "\n",
       "            4           5           6           7           8           9     \\\n",
       "0    -433.465759 -407.766632 -386.450592 -373.867249 -373.253204 -376.718170   \n",
       "1    -310.146912 -196.677322 -143.958191 -121.890251 -115.686531 -125.213715   \n",
       "2    -501.425995 -518.882568 -535.860840 -542.206970 -546.596130 -554.124207   \n",
       "3    -543.135010 -550.916077 -557.480408 -557.828857 -552.620728 -554.126343   \n",
       "4    -320.336212 -311.373444 -325.856323 -309.311768 -279.476776 -276.182343   \n",
       "...          ...         ...         ...         ...         ...         ...   \n",
       "1941 -368.541931 -373.195923 -373.310944 -382.509979 -384.369232 -388.606354   \n",
       "1942 -493.648773 -500.193115 -511.542725 -508.556885 -505.326843 -491.686676   \n",
       "1943 -231.188690 -234.239349 -237.411102 -248.221985 -254.781311 -247.807007   \n",
       "1944 -199.127640 -203.703552 -231.866257 -250.831497 -242.183167 -268.898834   \n",
       "1945 -331.668945 -302.755371 -301.522552 -315.138855 -324.281891 -332.758850   \n",
       "\n",
       "      ...      2241       2242       2243       2244       2245       2246  \\\n",
       "0     ... -6.015262 -10.757653 -11.165491 -10.607825 -13.730804  -6.789348   \n",
       "1     ...  3.277682  -0.587493   0.046199  -4.752885  -4.910209  -0.153703   \n",
       "2     ...  2.304256  -0.185979  -5.010571  -1.363904  -4.386158  -3.691793   \n",
       "3     ...  5.934577   7.152072  11.320415   5.753222   1.330544   0.047888   \n",
       "4     ...  0.901431   1.238960   1.377512   2.657545   5.603203   5.593097   \n",
       "...   ...       ...        ...        ...        ...        ...        ...   \n",
       "1941  ...  4.950514  10.983016  10.041251   7.969370  11.732731  11.466062   \n",
       "1942  ...  4.541065   8.230209   3.416269  -4.567317  -7.928992  -2.784325   \n",
       "1943  ...  8.815567   6.748887   1.594312  -2.088048  -2.859728  -3.648098   \n",
       "1944  ...  6.745681   5.941745   4.545578   4.087250   5.432576   6.580695   \n",
       "1945  ...  9.366126   7.594479   5.078589   5.972225   3.424716   4.721066   \n",
       "\n",
       "           2247      2248       2249       2250  \n",
       "0     -6.029935 -3.624697  -0.950168  -2.479859  \n",
       "1     -1.368832 -1.928573  -0.542693   1.211689  \n",
       "2     -0.323971  0.286205  -1.644120  -5.086028  \n",
       "3      0.675164  3.985723   1.067848   2.220659  \n",
       "4      3.590163 -0.245241   1.755665   1.943853  \n",
       "...         ...       ...        ...        ...  \n",
       "1941   8.036340  4.825058   8.576981  16.337179  \n",
       "1942  -1.224775  3.923793   8.971301  10.247086  \n",
       "1943  -3.201086 -9.748062 -12.836238 -15.898949  \n",
       "1944   6.017241  5.096549   5.172022   6.060733  \n",
       "1945  12.546980  6.688160   4.267544   5.074432  \n",
       "\n",
       "[1946 rows x 2251 columns]"
      ]
     },
     "execution_count": 119,
     "metadata": {},
     "output_type": "execute_result"
    }
   ],
   "source": [
    "mdf"
   ]
  },
  {
   "cell_type": "code",
   "execution_count": null,
   "metadata": {
    "hide_input": true
   },
   "outputs": [],
   "source": []
  },
  {
   "cell_type": "code",
   "execution_count": 107,
   "metadata": {
    "ExecuteTime": {
     "end_time": "2019-10-22T23:55:28.079047Z",
     "start_time": "2019-10-22T23:55:28.029296Z"
    }
   },
   "outputs": [],
   "source": [
    "from sklearn.model_selection import train_test_split\n",
    "X = mdf.drop(columns=[0, 1], axis=1)\n",
    "y = mdf[0]\n",
    "\n",
    "X_train, X_test, y_train, y_test = train_test_split(\n",
    "    X,\n",
    "    y,\n",
    "    test_size=0.25,\n",
    "    random_state=None\n",
    ")"
   ]
  },
  {
   "cell_type": "code",
   "execution_count": 128,
   "metadata": {
    "ExecuteTime": {
     "end_time": "2019-10-28T06:28:16.810063Z",
     "start_time": "2019-10-28T06:28:16.805223Z"
    }
   },
   "outputs": [
    {
     "data": {
      "text/plain": [
       "0.6752312435765673"
      ]
     },
     "execution_count": 128,
     "metadata": {},
     "output_type": "execute_result"
    }
   ],
   "source": [
    "sum(y) / len(y)"
   ]
  },
  {
   "cell_type": "code",
   "execution_count": 112,
   "metadata": {
    "ExecuteTime": {
     "end_time": "2019-10-22T23:57:20.468657Z",
     "start_time": "2019-10-22T23:57:17.911495Z"
    }
   },
   "outputs": [
    {
     "name": "stderr",
     "output_type": "stream",
     "text": [
      "/Users/greg/anaconda3/envs/metis/lib/python3.7/site-packages/sklearn/linear_model/logistic.py:432: FutureWarning: Default solver will be changed to 'lbfgs' in 0.22. Specify a solver to silence this warning.\n",
      "  FutureWarning)\n"
     ]
    },
    {
     "data": {
      "text/plain": [
       "LogisticRegression(C=1.0, class_weight=None, dual=False, fit_intercept=True,\n",
       "                   intercept_scaling=1, l1_ratio=None, max_iter=100,\n",
       "                   multi_class='warn', n_jobs=None, penalty='l2',\n",
       "                   random_state=None, solver='warn', tol=0.0001, verbose=0,\n",
       "                   warm_start=False)"
      ]
     },
     "execution_count": 112,
     "metadata": {},
     "output_type": "execute_result"
    }
   ],
   "source": [
    "logRegM = LogisticRegression()\n",
    "logRegM.fit(X_train, y_train)"
   ]
  },
  {
   "cell_type": "code",
   "execution_count": 118,
   "metadata": {
    "ExecuteTime": {
     "end_time": "2019-10-23T00:08:01.257973Z",
     "start_time": "2019-10-23T00:08:01.251470Z"
    }
   },
   "outputs": [
    {
     "data": {
      "text/plain": [
       "array([1, 0, 1, 0, 1, 0, 1, 0, 0, 1, 1, 1, 1, 1, 1, 0, 1, 1, 1, 0, 1, 1,\n",
       "       0, 0, 0, 1, 1, 0, 1, 1, 1, 0, 1, 0, 1, 1, 1, 1, 0, 1, 0, 1, 1, 1,\n",
       "       0, 1, 0, 1, 1, 1, 1, 1, 0, 1, 1, 1, 1, 0, 0, 1, 0, 1, 1, 1, 1, 1,\n",
       "       1, 1, 1, 0, 1, 1, 1, 1, 1, 1, 1, 1, 1, 1, 1, 1, 0, 0, 0, 0, 0, 0,\n",
       "       1, 1, 0, 0, 0, 0, 1, 0, 1, 1, 1, 1, 0, 0, 0, 1, 1, 0, 1, 1, 0, 1,\n",
       "       0, 1, 1, 1, 1, 1, 0, 1, 1, 0, 0, 1, 0, 0, 1, 1, 0, 0, 1, 1, 1, 1,\n",
       "       1, 0, 0, 0, 1, 1, 0, 1, 1, 0, 1, 0, 1, 0, 0, 1, 1, 1, 1, 0, 0, 1,\n",
       "       1, 1, 0, 0, 1, 1, 1, 1, 1, 1, 1, 0, 1, 0, 1, 0, 1, 1, 0, 1, 1, 0,\n",
       "       1, 1, 0, 1, 1, 0, 0, 1, 0, 0, 0, 1, 1, 1, 1, 1, 1, 1, 0, 1, 0, 1,\n",
       "       1, 0, 1, 1, 1, 1, 1, 0, 0, 0, 1, 1, 1, 1, 1, 0, 0, 0, 1, 1, 1, 1,\n",
       "       0, 0, 0, 0, 1, 0, 0, 1, 0, 0, 0, 1, 1, 1, 0, 1, 0, 1, 1, 1, 1, 0,\n",
       "       0, 1, 1, 1, 1, 1, 1, 1, 1, 1, 0, 1, 1, 0, 0, 0, 0, 0, 1, 0, 0, 0,\n",
       "       0, 1, 1, 1, 1, 1, 1, 0, 1, 1, 1, 1, 0, 0, 1, 1, 1, 1, 0, 1, 1, 1,\n",
       "       1, 1, 0, 1, 1, 0, 0, 1, 0, 0, 0, 1, 1, 1, 1, 0, 1, 1, 1, 1, 0, 1,\n",
       "       0, 1, 0, 1, 0, 0, 1, 1, 1, 0, 1, 1, 0, 0, 1, 1, 1, 1, 1, 1, 0, 1,\n",
       "       1, 0, 1, 1, 1, 0, 1, 0, 1, 1, 0, 1, 1, 1, 0, 1, 1, 1, 0, 1, 1, 1,\n",
       "       1, 1, 0, 1, 0, 0, 0, 1, 0, 0, 0, 1, 1, 1, 1, 1, 0, 0, 1, 1, 0, 1,\n",
       "       1, 1, 0, 1, 1, 1, 0, 1, 0, 1, 1, 1, 1, 1, 1, 1, 1, 1, 1, 1, 0, 1,\n",
       "       1, 0, 1, 1, 0, 1, 1, 1, 1, 0, 1, 1, 1, 1, 1, 1, 1, 1, 1, 0, 1, 1,\n",
       "       0, 0, 0, 0, 1, 1, 1, 1, 0, 1, 1, 0, 1, 1, 1, 1, 1, 0, 1, 1, 1, 1,\n",
       "       1, 0, 1, 1, 0, 1, 1, 1, 0, 1, 1, 1, 1, 1, 1, 1, 1, 1, 1, 0, 1, 1,\n",
       "       1, 1, 0, 0, 0, 0, 1, 1, 1, 1, 0, 1, 0, 0, 1, 1, 1, 0, 1, 0, 1, 0,\n",
       "       1, 1, 1])"
      ]
     },
     "execution_count": 118,
     "metadata": {},
     "output_type": "execute_result"
    }
   ],
   "source": []
  },
  {
   "cell_type": "code",
   "execution_count": null,
   "metadata": {},
   "outputs": [],
   "source": []
  }
 ],
 "metadata": {
  "hide_input": false,
  "kernelspec": {
   "display_name": "Python [conda env:metis] *",
   "language": "python",
   "name": "conda-env-metis-py"
  },
  "language_info": {
   "codemirror_mode": {
    "name": "ipython",
    "version": 3
   },
   "file_extension": ".py",
   "mimetype": "text/x-python",
   "name": "python",
   "nbconvert_exporter": "python",
   "pygments_lexer": "ipython3",
   "version": "3.7.3"
  },
  "toc": {
   "base_numbering": 1,
   "nav_menu": {},
   "number_sections": true,
   "sideBar": true,
   "skip_h1_title": false,
   "title_cell": "Table of Contents",
   "title_sidebar": "Contents",
   "toc_cell": false,
   "toc_position": {},
   "toc_section_display": true,
   "toc_window_display": false
  },
  "varInspector": {
   "cols": {
    "lenName": 16,
    "lenType": 16,
    "lenVar": 40
   },
   "kernels_config": {
    "python": {
     "delete_cmd_postfix": "",
     "delete_cmd_prefix": "del ",
     "library": "var_list.py",
     "varRefreshCmd": "print(var_dic_list())"
    },
    "r": {
     "delete_cmd_postfix": ") ",
     "delete_cmd_prefix": "rm(",
     "library": "var_list.r",
     "varRefreshCmd": "cat(var_dic_list()) "
    }
   },
   "types_to_exclude": [
    "module",
    "function",
    "builtin_function_or_method",
    "instance",
    "_Feature"
   ],
   "window_display": false
  }
 },
 "nbformat": 4,
 "nbformat_minor": 2
}
