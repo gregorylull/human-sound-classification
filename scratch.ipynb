{
 "cells": [
  {
   "cell_type": "code",
   "execution_count": 169,
   "metadata": {
    "ExecuteTime": {
     "end_time": "2019-10-30T00:55:29.295873Z",
     "start_time": "2019-10-30T00:55:29.268176Z"
    }
   },
   "outputs": [],
   "source": [
    "import glob\n",
    "import pandas as pd\n",
    "import numpy as np\n",
    "import re\n",
    "import json\n",
    "import pickle\n",
    "from matplotlib import pylab as plt\n",
    "\n",
    "from sklearn.preprocessing import StandardScaler\n",
    "from sklearn.decomposition import PCA\n",
    "from sklearn.linear_model import LogisticRegression, LogisticRegressionCV\n",
    "from sklearn.model_selection import train_test_split\n",
    "\n",
    "from sklearn.pipeline import Pipeline\n",
    "from sklearn.model_selection import GridSearchCV\n",
    "\n",
    "from sklearn.metrics import f1_score, make_scorer\n",
    "from xgboost.sklearn import XGBClassifier\n",
    "from sklearn.ensemble import RandomForestClassifier\n",
    "\n"
   ]
  },
  {
   "cell_type": "code",
   "execution_count": 2,
   "metadata": {
    "ExecuteTime": {
     "end_time": "2019-10-28T23:34:55.717549Z",
     "start_time": "2019-10-28T23:34:55.714617Z"
    }
   },
   "outputs": [],
   "source": [
    "CURRENT_FOLDER = f'analysis/chime/'"
   ]
  },
  {
   "cell_type": "code",
   "execution_count": 3,
   "metadata": {
    "ExecuteTime": {
     "end_time": "2019-10-28T23:35:01.294584Z",
     "start_time": "2019-10-28T23:34:58.504993Z"
    }
   },
   "outputs": [],
   "source": [
    "chime_mfcc_filename = f'{CURRENT_FOLDER}chime_mfcc.csv'\n",
    "raw_df = pd.read_csv(chime_mfcc_filename)"
   ]
  },
  {
   "cell_type": "code",
   "execution_count": 4,
   "metadata": {
    "ExecuteTime": {
     "end_time": "2019-10-28T23:35:01.974256Z",
     "start_time": "2019-10-28T23:35:01.680865Z"
    }
   },
   "outputs": [],
   "source": [
    "tvt_filename = f'{CURRENT_FOLDER}train_val_test.pkl'\n",
    "with open(tvt_filename, 'rb') as readfile:\n",
    "    train_val_test = pickle.load(readfile)"
   ]
  },
  {
   "cell_type": "code",
   "execution_count": 29,
   "metadata": {
    "ExecuteTime": {
     "end_time": "2019-10-28T10:06:57.394363Z",
     "start_time": "2019-10-28T10:06:52.855485Z"
    }
   },
   "outputs": [
    {
     "data": {
      "text/plain": [
       "array([[-34.44255228,  -7.85984383, -14.26408728, ...,  -2.19877924,\n",
       "         -1.05359889,  -0.79442866],\n",
       "       [ 42.67418778,   1.22087045,   6.64160394, ...,   2.22967752,\n",
       "         -0.687279  ,  -3.69279056],\n",
       "       [-14.63477139,   7.11055933,   5.78524565, ...,  -0.44239342,\n",
       "         -0.55647615,   1.29830201],\n",
       "       ...,\n",
       "       [  2.33764124,  10.46461175,  -8.31714126, ...,   2.90918809,\n",
       "         -0.97938499,   0.4724944 ],\n",
       "       [  0.24940182,  21.07588185,   6.53337924, ...,   0.74185434,\n",
       "         -0.05362823,   0.66528404],\n",
       "       [  2.24185271,  -3.67147669,  -5.24241008, ...,  -1.88942063,\n",
       "         -1.93428452,  -0.51426086]])"
      ]
     },
     "execution_count": 29,
     "metadata": {},
     "output_type": "execute_result"
    }
   ],
   "source": [
    "pca = PCA()\n",
    "scaler = StandardScaler()\n",
    "pca_90 = PCA(0.9)\n",
    "pca_50 = PCA(0.5)\n",
    "xtrain = scaler.fit_transform(train_val_test['X_train'])\n",
    "pca.fit_transform(xtrain)\n",
    "pca_50.fit_transform(xtrain)\n",
    "pca_90.fit_transform(xtrain)"
   ]
  },
  {
   "cell_type": "code",
   "execution_count": 32,
   "metadata": {
    "ExecuteTime": {
     "end_time": "2019-10-28T10:08:19.788521Z",
     "start_time": "2019-10-28T10:08:19.784649Z"
    }
   },
   "outputs": [
    {
     "name": "stdout",
     "output_type": "stream",
     "text": [
      "pca 1244\n",
      "pca 74\n",
      "pca 318\n"
     ]
    }
   ],
   "source": [
    "print('pca', pca.n_components_)\n",
    "print('pca', pca_50.n_components_)\n",
    "print('pca', pca_90.n_components_)"
   ]
  },
  {
   "cell_type": "code",
   "execution_count": 35,
   "metadata": {
    "ExecuteTime": {
     "end_time": "2019-10-28T10:43:49.428590Z",
     "start_time": "2019-10-28T10:43:49.425772Z"
    }
   },
   "outputs": [],
   "source": [
    "test = [{'id': 1, 'v': 5}, {'id': 2, 'v': 2}, {'id': 3, 'v': 3}]"
   ]
  },
  {
   "cell_type": "code",
   "execution_count": 37,
   "metadata": {
    "ExecuteTime": {
     "end_time": "2019-10-28T10:45:46.086668Z",
     "start_time": "2019-10-28T10:45:46.082448Z"
    }
   },
   "outputs": [
    {
     "data": {
      "text/plain": [
       "[{'id': 1, 'v': 5}, {'id': 3, 'v': 3}, {'id': 2, 'v': 2}]"
      ]
     },
     "execution_count": 37,
     "metadata": {},
     "output_type": "execute_result"
    }
   ],
   "source": [
    "sorted(test, key=lambda obj: obj['v'], reverse=True)"
   ]
  },
  {
   "cell_type": "code",
   "execution_count": null,
   "metadata": {},
   "outputs": [],
   "source": [
    "### Verifying manual vs pipeline vs pipeline+grid produces the same scores and coefficients\n",
    "The following blocks of code uses the Iris data sets and verifies that grid and pipeline correctly scales the X data.\n"
   ]
  },
  {
   "cell_type": "code",
   "execution_count": 5,
   "metadata": {
    "ExecuteTime": {
     "end_time": "2019-10-28T23:36:03.093956Z",
     "start_time": "2019-10-28T23:36:03.053714Z"
    }
   },
   "outputs": [],
   "source": [
    "from sklearn.datasets import load_iris\n",
    "iris = load_iris()\n",
    "X = pd.DataFrame(data = iris.data)\n",
    "y = iris.target\n",
    "X.columns = iris['feature_names']"
   ]
  },
  {
   "cell_type": "code",
   "execution_count": 22,
   "metadata": {
    "ExecuteTime": {
     "end_time": "2019-10-28T23:43:24.937899Z",
     "start_time": "2019-10-28T23:43:24.933596Z"
    }
   },
   "outputs": [],
   "source": [
    "X_train, X_test, y_train, y_test = train_test_split(\n",
    "    X, y,\n",
    "    test_size=0.4,\n",
    "    random_state=42\n",
    ")"
   ]
  },
  {
   "cell_type": "code",
   "execution_count": 129,
   "metadata": {
    "ExecuteTime": {
     "end_time": "2019-10-29T10:35:55.717465Z",
     "start_time": "2019-10-29T10:35:55.653719Z"
    }
   },
   "outputs": [
    {
     "name": "stdout",
     "output_type": "stream",
     "text": [
      "C=1\n",
      "train score:  0.9666666666666667\n",
      "test score:  0.9833333333333333\n",
      "coefs\n",
      " [[-0.9228266   0.96518343 -1.66166807 -1.53042151]\n",
      " [ 0.49665646 -0.33559257 -0.24038208 -0.69282691]\n",
      " [ 0.42617014 -0.62959086  1.90205015  2.22324843]]\n",
      "f1 0.9833089133089132\n",
      "\n",
      "C=100\n",
      "train score:  0.9888888888888889\n",
      "test score:  0.9833333333333333\n",
      "coefs\n",
      " [[-2.25319202  2.71189877 -6.01187126 -5.75347406]\n",
      " [ 1.78171561  0.1138654  -2.50975151 -3.61072626]\n",
      " [ 0.47147641 -2.82576417  8.52162277  9.36420032]]\n",
      "f1 0.9833089133089132\n",
      "\n",
      "C=10000\n",
      "train score:  0.9888888888888889\n",
      "test score:  0.9833333333333333\n",
      "coefs\n",
      " [[ -6.54776542   7.64408805 -21.94565854 -21.4096363 ]\n",
      " [  6.08743213   1.4225854  -15.08227974 -20.76259704]\n",
      " [  0.46033329  -9.06667346  37.02793829  42.17223334]]\n",
      "f1 0.9833089133089132\n"
     ]
    }
   ],
   "source": [
    "scaler = StandardScaler()\n",
    "X_train_trans = scaler.fit_transform(X_train)\n",
    "X_test_trans = scaler.transform(X_test)\n",
    "\n",
    "lr = LogisticRegression(solver='lbfgs', multi_class='auto', C=1, max_iter=1000)\n",
    "lr.fit(X_train_trans, y_train)\n",
    "y_pred = lr.predict(X_test_trans)\n",
    "print('C=1')\n",
    "print('train score: ', lr.score(X_train_trans, y_train))\n",
    "print('test score: ', lr.score(X_test_trans, y_test))\n",
    "print('coefs\\n', lr.coef_)\n",
    "print('f1', f1_score(y_test, y_pred, average='weighted'))\n",
    "\n",
    "lr = LogisticRegression(solver='lbfgs', multi_class='auto', C=100, max_iter=1000)\n",
    "lr.fit(X_train_trans, y_train)\n",
    "y_pred = lr.predict(X_test_trans)\n",
    "print('\\nC=100')\n",
    "print('train score: ', lr.score(X_train_trans, y_train))\n",
    "print('test score: ', lr.score(X_test_trans, y_test))\n",
    "print('coefs\\n', lr.coef_)\n",
    "print('f1', f1_score(y_test, y_pred, average='weighted'))\n",
    "\n",
    "lr = LogisticRegression(solver='lbfgs', multi_class='auto', C=10000, max_iter=1000)\n",
    "lr.fit(X_train_trans, y_train)\n",
    "y_pred = lr.predict(X_test_trans)\n",
    "print('\\nC=10000')\n",
    "print('train score: ', lr.score(X_train_trans, y_train))\n",
    "print('test score: ', lr.score(X_test_trans, y_test))\n",
    "print('coefs\\n', lr.coef_)\n",
    "print('f1', f1_score(y_test, y_pred, average='weighted'))\n",
    "\n"
   ]
  },
  {
   "cell_type": "code",
   "execution_count": 107,
   "metadata": {
    "ExecuteTime": {
     "end_time": "2019-10-29T09:18:53.967207Z",
     "start_time": "2019-10-29T09:18:53.961255Z"
    }
   },
   "outputs": [
    {
     "data": {
      "text/plain": [
       "0.9833089133089132"
      ]
     },
     "execution_count": 107,
     "metadata": {},
     "output_type": "execute_result"
    }
   ],
   "source": []
  },
  {
   "cell_type": "code",
   "execution_count": 121,
   "metadata": {
    "ExecuteTime": {
     "end_time": "2019-10-29T09:29:26.190574Z",
     "start_time": "2019-10-29T09:29:26.124268Z"
    }
   },
   "outputs": [
    {
     "name": "stdout",
     "output_type": "stream",
     "text": [
      "\n",
      "C: 1\n",
      "train score:  0.9666666666666667\n",
      "test score:  0.9833333333333333\n",
      "coefs\n",
      " [[-0.9228266   0.96518343 -1.66166807 -1.53042151]\n",
      " [ 0.49665646 -0.33559257 -0.24038208 -0.69282691]\n",
      " [ 0.42617014 -0.62959086  1.90205015  2.22324843]]\n",
      "f1 0.9833089133089132\n",
      "\n",
      "C: 100\n",
      "train score:  0.9888888888888889\n",
      "test score:  0.9833333333333333\n",
      "coefs\n",
      " [[-2.25319202  2.71189877 -6.01187126 -5.75347406]\n",
      " [ 1.78171561  0.1138654  -2.50975151 -3.61072626]\n",
      " [ 0.47147641 -2.82576417  8.52162277  9.36420032]]\n",
      "f1 0.9833089133089132\n",
      "\n",
      "C: 10000\n",
      "train score:  0.9888888888888889\n",
      "test score:  0.9833333333333333\n",
      "coefs\n",
      " [[ -6.54776542   7.64408805 -21.94565854 -21.4096363 ]\n",
      " [  6.08743213   1.4225854  -15.08227974 -20.76259704]\n",
      " [  0.46033329  -9.06667346  37.02793829  42.17223334]]\n",
      "f1 0.9833089133089132\n"
     ]
    }
   ],
   "source": [
    "lr_pipeline = Pipeline([\n",
    "    ('standard_scaler', StandardScaler()),\n",
    "    ('logreg', LogisticRegression(solver='lbfgs', multi_class='auto', max_iter=1000))\n",
    "])\n",
    "\n",
    "\n",
    "for c in [1, 100, 10000]:\n",
    "    lr_pipeline.set_params(**dict(\n",
    "        logreg__C = c\n",
    "    ))\n",
    "    lr_pipeline.fit(X_train, y_train)\n",
    "    print(f'\\nC: {c}')\n",
    "    print('train score: ', lr_pipeline.score(X_train, y_train))\n",
    "    print('test score: ', lr_pipeline.score(X_test, y_test))\n",
    "    print('coefs\\n', lr_pipeline.named_steps['logreg'].coef_)\n",
    "    print('f1', f1_score(y_test, lr_pipeline.predict(X_test), average='weighted'))\n"
   ]
  },
  {
   "cell_type": "code",
   "execution_count": 146,
   "metadata": {
    "ExecuteTime": {
     "end_time": "2019-10-29T12:18:30.470391Z",
     "start_time": "2019-10-29T12:18:30.064152Z"
    }
   },
   "outputs": [
    {
     "name": "stdout",
     "output_type": "stream",
     "text": [
      "train score:  0.9333333333333333\n",
      "test score:  0.9833089133089132\n",
      "grid coefs\n",
      " [[-0.76463531  0.76649571 -1.28672085 -1.18318996]\n",
      " [ 0.36415486 -0.3883894  -0.09370145 -0.49884388]\n",
      " [ 0.40048045 -0.37810632  1.3804223   1.68203384]]\n",
      "best params:  {'logreg__C': 0.5}\n"
     ]
    },
    {
     "name": "stderr",
     "output_type": "stream",
     "text": [
      "/Users/greg/anaconda3/envs/metis/lib/python3.7/site-packages/sklearn/model_selection/_search.py:814: DeprecationWarning: The default of the `iid` parameter will change from True to False in version 0.22 and will be removed in 0.24. This will change numeric results when test-set sizes are unequal.\n",
      "  DeprecationWarning)\n"
     ]
    }
   ],
   "source": [
    "lr_grid_pipeline = Pipeline([\n",
    "    ('standard_scaler', StandardScaler()),\n",
    "    ('logreg', LogisticRegression(solver='lbfgs', multi_class='auto', max_iter=200))\n",
    "])\n",
    "params = {\n",
    "    'logreg__C': [0.1, 0.5, 1, 100, 10000]\n",
    "}\n",
    "f1_metric = make_scorer(f1_score, greater_is_better=True, average='weighted')\n",
    "grid = GridSearchCV(lr_grid_pipeline, param_grid=params, cv=5, scoring=f1_metric)\n",
    "grid.fit(X_train, y_train)\n",
    "print('train score: ', grid.score(X_train, y_train))\n",
    "print('test score: ', grid.score(X_test, y_test))\n",
    "print('grid coefs\\n', grid.best_estimator_.named_steps['logreg'].coef_)\n",
    "print('best params: ', grid.best_params_)"
   ]
  },
  {
   "cell_type": "code",
   "execution_count": 166,
   "metadata": {
    "ExecuteTime": {
     "end_time": "2019-10-29T21:24:15.254654Z",
     "start_time": "2019-10-29T21:24:15.246682Z"
    }
   },
   "outputs": [
    {
     "data": {
      "text/plain": [
       "0.9833089133089132"
      ]
     },
     "execution_count": 166,
     "metadata": {},
     "output_type": "execute_result"
    }
   ],
   "source": [
    "# how to use scorer\n",
    "f1_metric(lr_pipeline, X_test, y_test)"
   ]
  },
  {
   "cell_type": "code",
   "execution_count": 135,
   "metadata": {
    "ExecuteTime": {
     "end_time": "2019-10-29T10:50:36.067930Z",
     "start_time": "2019-10-29T10:50:36.064695Z"
    }
   },
   "outputs": [],
   "source": [
    "pca_pipeline = Pipeline([\n",
    "    ('standard_scaler', StandardScaler()),\n",
    "    ('pca', PCA()),\n",
    "    ('logreg', LogisticRegression(solver='lbfgs', multi_class='auto', max_iter=1000))\n",
    "])"
   ]
  },
  {
   "cell_type": "code",
   "execution_count": 136,
   "metadata": {
    "ExecuteTime": {
     "end_time": "2019-10-29T10:50:44.942145Z",
     "start_time": "2019-10-29T10:50:44.936108Z"
    }
   },
   "outputs": [
    {
     "data": {
      "text/plain": [
       "{'memory': None,\n",
       " 'steps': [('standard_scaler',\n",
       "   StandardScaler(copy=True, with_mean=True, with_std=True)),\n",
       "  ('pca',\n",
       "   PCA(copy=True, iterated_power='auto', n_components=None, random_state=None,\n",
       "       svd_solver='auto', tol=0.0, whiten=False)),\n",
       "  ('logreg',\n",
       "   LogisticRegression(C=1.0, class_weight=None, dual=False, fit_intercept=True,\n",
       "                      intercept_scaling=1, l1_ratio=None, max_iter=1000,\n",
       "                      multi_class='auto', n_jobs=None, penalty='l2',\n",
       "                      random_state=None, solver='lbfgs', tol=0.0001, verbose=0,\n",
       "                      warm_start=False))],\n",
       " 'verbose': False,\n",
       " 'standard_scaler': StandardScaler(copy=True, with_mean=True, with_std=True),\n",
       " 'pca': PCA(copy=True, iterated_power='auto', n_components=None, random_state=None,\n",
       "     svd_solver='auto', tol=0.0, whiten=False),\n",
       " 'logreg': LogisticRegression(C=1.0, class_weight=None, dual=False, fit_intercept=True,\n",
       "                    intercept_scaling=1, l1_ratio=None, max_iter=1000,\n",
       "                    multi_class='auto', n_jobs=None, penalty='l2',\n",
       "                    random_state=None, solver='lbfgs', tol=0.0001, verbose=0,\n",
       "                    warm_start=False),\n",
       " 'standard_scaler__copy': True,\n",
       " 'standard_scaler__with_mean': True,\n",
       " 'standard_scaler__with_std': True,\n",
       " 'pca__copy': True,\n",
       " 'pca__iterated_power': 'auto',\n",
       " 'pca__n_components': None,\n",
       " 'pca__random_state': None,\n",
       " 'pca__svd_solver': 'auto',\n",
       " 'pca__tol': 0.0,\n",
       " 'pca__whiten': False,\n",
       " 'logreg__C': 1.0,\n",
       " 'logreg__class_weight': None,\n",
       " 'logreg__dual': False,\n",
       " 'logreg__fit_intercept': True,\n",
       " 'logreg__intercept_scaling': 1,\n",
       " 'logreg__l1_ratio': None,\n",
       " 'logreg__max_iter': 1000,\n",
       " 'logreg__multi_class': 'auto',\n",
       " 'logreg__n_jobs': None,\n",
       " 'logreg__penalty': 'l2',\n",
       " 'logreg__random_state': None,\n",
       " 'logreg__solver': 'lbfgs',\n",
       " 'logreg__tol': 0.0001,\n",
       " 'logreg__verbose': 0,\n",
       " 'logreg__warm_start': False}"
      ]
     },
     "execution_count": 136,
     "metadata": {},
     "output_type": "execute_result"
    }
   ],
   "source": [
    "pca_pipeline.get_params()"
   ]
  },
  {
   "cell_type": "code",
   "execution_count": 148,
   "metadata": {
    "ExecuteTime": {
     "end_time": "2019-10-29T13:21:43.689034Z",
     "start_time": "2019-10-29T13:21:43.682855Z"
    }
   },
   "outputs": [
    {
     "name": "stdout",
     "output_type": "stream",
     "text": [
      "hi me no\n"
     ]
    },
    {
     "data": {
      "text/plain": [
       "'me'"
      ]
     },
     "execution_count": 148,
     "metadata": {},
     "output_type": "execute_result"
    }
   ],
   "source": [
    "def hello(name, **kwargs):\n",
    "    \n",
    "    def hi():\n",
    "        return name\n",
    "    \n",
    "    if 'myvar' in kwargs:\n",
    "        print('hi', hi(), kwargs['myvar'])\n",
    "    \n",
    "    return hi\n",
    "        \n",
    "\n",
    "def test(name, **kwargs):\n",
    "    return hello(name, **kwargs)\n",
    "\n",
    "t = test('me', myvar='no')\n",
    "t()"
   ]
  },
  {
   "cell_type": "code",
   "execution_count": 151,
   "metadata": {
    "ExecuteTime": {
     "end_time": "2019-10-29T20:41:32.465844Z",
     "start_time": "2019-10-29T20:41:32.461191Z"
    }
   },
   "outputs": [
    {
     "data": {
      "text/plain": [
       "0     1\n",
       "1     2\n",
       "2     3\n",
       "3     4\n",
       "4     5\n",
       "5    10\n",
       "6    10\n",
       "dtype: int64"
      ]
     },
     "execution_count": 151,
     "metadata": {},
     "output_type": "execute_result"
    }
   ],
   "source": [
    "a = pd.Series([1, 2, 3, 4, 5, 10, 10])"
   ]
  },
  {
   "cell_type": "code",
   "execution_count": 159,
   "metadata": {
    "ExecuteTime": {
     "end_time": "2019-10-29T20:51:57.052981Z",
     "start_time": "2019-10-29T20:51:50.967394Z"
    }
   },
   "outputs": [],
   "source": [
    "# understanding stratified vs non_stratified train split\n",
    "X = train_val_test['X']\n",
    "y = train_val_test['y']\n",
    "n = 100\n",
    "\n",
    "\n",
    "def split(X, y, n=100, **kwargs):\n",
    "    y_ratio = []\n",
    "    for i in range(n):\n",
    "        X_train, X_test, y_train, y_test = train_test_split(X, y, test_size=0.2, **kwargs)\n",
    "        y_ratio.append(sum(y_test)/sum(y_train))\n",
    "    \n",
    "    \n",
    "    return pd.Series(y_ratio)\n",
    "\n",
    "split_default = split(X, y, n)\n",
    "split_strat = split(X, y, n, stratify=y)"
   ]
  },
  {
   "cell_type": "code",
   "execution_count": 160,
   "metadata": {
    "ExecuteTime": {
     "end_time": "2019-10-29T20:51:58.522255Z",
     "start_time": "2019-10-29T20:51:58.514870Z"
    }
   },
   "outputs": [
    {
     "data": {
      "text/plain": [
       "count    100.000000\n",
       "mean       0.250223\n",
       "std        0.010063\n",
       "min        0.229186\n",
       "25%        0.241966\n",
       "50%        0.250238\n",
       "75%        0.257416\n",
       "max        0.272023\n",
       "dtype: float64"
      ]
     },
     "execution_count": 160,
     "metadata": {},
     "output_type": "execute_result"
    }
   ],
   "source": [
    "split_default.describe()"
   ]
  },
  {
   "cell_type": "code",
   "execution_count": 161,
   "metadata": {
    "ExecuteTime": {
     "end_time": "2019-10-29T20:51:59.975936Z",
     "start_time": "2019-10-29T20:51:59.969501Z"
    }
   },
   "outputs": [
    {
     "data": {
      "text/plain": [
       "count    1.000000e+02\n",
       "mean     2.502379e-01\n",
       "std      5.579081e-17\n",
       "min      2.502379e-01\n",
       "25%      2.502379e-01\n",
       "50%      2.502379e-01\n",
       "75%      2.502379e-01\n",
       "max      2.502379e-01\n",
       "dtype: float64"
      ]
     },
     "execution_count": 161,
     "metadata": {},
     "output_type": "execute_result"
    }
   ],
   "source": [
    "split_strat.describe()"
   ]
  },
  {
   "cell_type": "code",
   "execution_count": 168,
   "metadata": {
    "ExecuteTime": {
     "end_time": "2019-10-30T00:43:36.563976Z",
     "start_time": "2019-10-30T00:43:36.561615Z"
    }
   },
   "outputs": [],
   "source": [
    "# xg classifier\n",
    "xgb = XGBClassifier()"
   ]
  },
  {
   "cell_type": "code",
   "execution_count": 170,
   "metadata": {
    "ExecuteTime": {
     "end_time": "2019-10-30T00:55:43.471140Z",
     "start_time": "2019-10-30T00:55:43.468736Z"
    }
   },
   "outputs": [],
   "source": [
    "rand = RandomForestClassifier(n_estimators=100)"
   ]
  },
  {
   "cell_type": "code",
   "execution_count": null,
   "metadata": {},
   "outputs": [],
   "source": []
  }
 ],
 "metadata": {
  "hide_input": false,
  "kernelspec": {
   "display_name": "Python [conda env:metis] *",
   "language": "python",
   "name": "conda-env-metis-py"
  },
  "language_info": {
   "codemirror_mode": {
    "name": "ipython",
    "version": 3
   },
   "file_extension": ".py",
   "mimetype": "text/x-python",
   "name": "python",
   "nbconvert_exporter": "python",
   "pygments_lexer": "ipython3",
   "version": "3.7.3"
  },
  "toc": {
   "base_numbering": 1,
   "nav_menu": {},
   "number_sections": true,
   "sideBar": true,
   "skip_h1_title": false,
   "title_cell": "Table of Contents",
   "title_sidebar": "Contents",
   "toc_cell": false,
   "toc_position": {},
   "toc_section_display": true,
   "toc_window_display": false
  },
  "varInspector": {
   "cols": {
    "lenName": 16,
    "lenType": 16,
    "lenVar": 40
   },
   "kernels_config": {
    "python": {
     "delete_cmd_postfix": "",
     "delete_cmd_prefix": "del ",
     "library": "var_list.py",
     "varRefreshCmd": "print(var_dic_list())"
    },
    "r": {
     "delete_cmd_postfix": ") ",
     "delete_cmd_prefix": "rm(",
     "library": "var_list.r",
     "varRefreshCmd": "cat(var_dic_list()) "
    }
   },
   "types_to_exclude": [
    "module",
    "function",
    "builtin_function_or_method",
    "instance",
    "_Feature"
   ],
   "window_display": false
  }
 },
 "nbformat": 4,
 "nbformat_minor": 2
}
