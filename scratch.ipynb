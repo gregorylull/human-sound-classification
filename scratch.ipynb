{
 "cells": [
  {
   "cell_type": "code",
   "execution_count": 25,
   "metadata": {
    "ExecuteTime": {
     "end_time": "2019-10-28T10:05:38.833876Z",
     "start_time": "2019-10-28T10:05:38.574519Z"
    }
   },
   "outputs": [],
   "source": [
    "import glob\n",
    "import pandas as pd\n",
    "import numpy as np\n",
    "import re\n",
    "import json\n",
    "import pickle\n",
    "from matplotlib import pylab as plt\n",
    "\n",
    "from sklearn.preprocessing import StandardScaler\n",
    "from sklearn.decomposition import PCA\n",
    "from sklearn.linear_model import LogisticRegression, LogisticRegressionCV"
   ]
  },
  {
   "cell_type": "code",
   "execution_count": 3,
   "metadata": {
    "ExecuteTime": {
     "end_time": "2019-10-28T06:42:40.907742Z",
     "start_time": "2019-10-28T06:42:40.905610Z"
    }
   },
   "outputs": [],
   "source": [
    "CURRENT_FOLDER = f'analysis/chime/'"
   ]
  },
  {
   "cell_type": "code",
   "execution_count": 4,
   "metadata": {
    "ExecuteTime": {
     "end_time": "2019-10-28T06:42:43.863396Z",
     "start_time": "2019-10-28T06:42:41.079176Z"
    }
   },
   "outputs": [],
   "source": [
    "chime_mfcc_filename = f'{CURRENT_FOLDER}chime_mfcc.csv'\n",
    "raw_df = pd.read_csv(chime_mfcc_filename)"
   ]
  },
  {
   "cell_type": "code",
   "execution_count": 28,
   "metadata": {
    "ExecuteTime": {
     "end_time": "2019-10-28T10:06:46.755645Z",
     "start_time": "2019-10-28T10:06:46.231837Z"
    }
   },
   "outputs": [],
   "source": [
    "tvt_filename = f'{CURRENT_FOLDER}train_val_test.pkl'\n",
    "with open(tvt_filename, 'rb') as readfile:\n",
    "    train_val_test = pickle.load(readfile)"
   ]
  },
  {
   "cell_type": "code",
   "execution_count": 29,
   "metadata": {
    "ExecuteTime": {
     "end_time": "2019-10-28T10:06:57.394363Z",
     "start_time": "2019-10-28T10:06:52.855485Z"
    }
   },
   "outputs": [
    {
     "data": {
      "text/plain": [
       "array([[-34.44255228,  -7.85984383, -14.26408728, ...,  -2.19877924,\n",
       "         -1.05359889,  -0.79442866],\n",
       "       [ 42.67418778,   1.22087045,   6.64160394, ...,   2.22967752,\n",
       "         -0.687279  ,  -3.69279056],\n",
       "       [-14.63477139,   7.11055933,   5.78524565, ...,  -0.44239342,\n",
       "         -0.55647615,   1.29830201],\n",
       "       ...,\n",
       "       [  2.33764124,  10.46461175,  -8.31714126, ...,   2.90918809,\n",
       "         -0.97938499,   0.4724944 ],\n",
       "       [  0.24940182,  21.07588185,   6.53337924, ...,   0.74185434,\n",
       "         -0.05362823,   0.66528404],\n",
       "       [  2.24185271,  -3.67147669,  -5.24241008, ...,  -1.88942063,\n",
       "         -1.93428452,  -0.51426086]])"
      ]
     },
     "execution_count": 29,
     "metadata": {},
     "output_type": "execute_result"
    }
   ],
   "source": [
    "pca = PCA()\n",
    "scaler = StandardScaler()\n",
    "pca_90 = PCA(0.9)\n",
    "pca_50 = PCA(0.5)\n",
    "xtrain = scaler.fit_transform(train_val_test['X_train'])\n",
    "pca.fit_transform(xtrain)\n",
    "pca_50.fit_transform(xtrain)\n",
    "pca_90.fit_transform(xtrain)"
   ]
  },
  {
   "cell_type": "code",
   "execution_count": 32,
   "metadata": {
    "ExecuteTime": {
     "end_time": "2019-10-28T10:08:19.788521Z",
     "start_time": "2019-10-28T10:08:19.784649Z"
    }
   },
   "outputs": [
    {
     "name": "stdout",
     "output_type": "stream",
     "text": [
      "pca 1244\n",
      "pca 74\n",
      "pca 318\n"
     ]
    }
   ],
   "source": [
    "print('pca', pca.n_components_)\n",
    "print('pca', pca_50.n_components_)\n",
    "print('pca', pca_90.n_components_)"
   ]
  },
  {
   "cell_type": "code",
   "execution_count": 35,
   "metadata": {
    "ExecuteTime": {
     "end_time": "2019-10-28T10:43:49.428590Z",
     "start_time": "2019-10-28T10:43:49.425772Z"
    }
   },
   "outputs": [],
   "source": [
    "test = [{'id': 1, 'v': 5}, {'id': 2, 'v': 2}, {'id': 3, 'v': 3}]"
   ]
  },
  {
   "cell_type": "code",
   "execution_count": 37,
   "metadata": {
    "ExecuteTime": {
     "end_time": "2019-10-28T10:45:46.086668Z",
     "start_time": "2019-10-28T10:45:46.082448Z"
    }
   },
   "outputs": [
    {
     "data": {
      "text/plain": [
       "[{'id': 1, 'v': 5}, {'id': 3, 'v': 3}, {'id': 2, 'v': 2}]"
      ]
     },
     "execution_count": 37,
     "metadata": {},
     "output_type": "execute_result"
    }
   ],
   "source": [
    "sorted(test, key=lambda obj: obj['v'], reverse=True)"
   ]
  },
  {
   "cell_type": "code",
   "execution_count": null,
   "metadata": {},
   "outputs": [],
   "source": []
  }
 ],
 "metadata": {
  "hide_input": false,
  "kernelspec": {
   "display_name": "Python [conda env:metis] *",
   "language": "python",
   "name": "conda-env-metis-py"
  },
  "language_info": {
   "codemirror_mode": {
    "name": "ipython",
    "version": 3
   },
   "file_extension": ".py",
   "mimetype": "text/x-python",
   "name": "python",
   "nbconvert_exporter": "python",
   "pygments_lexer": "ipython3",
   "version": "3.7.3"
  },
  "toc": {
   "base_numbering": 1,
   "nav_menu": {},
   "number_sections": true,
   "sideBar": true,
   "skip_h1_title": false,
   "title_cell": "Table of Contents",
   "title_sidebar": "Contents",
   "toc_cell": false,
   "toc_position": {},
   "toc_section_display": true,
   "toc_window_display": false
  },
  "varInspector": {
   "cols": {
    "lenName": 16,
    "lenType": 16,
    "lenVar": 40
   },
   "kernels_config": {
    "python": {
     "delete_cmd_postfix": "",
     "delete_cmd_prefix": "del ",
     "library": "var_list.py",
     "varRefreshCmd": "print(var_dic_list())"
    },
    "r": {
     "delete_cmd_postfix": ") ",
     "delete_cmd_prefix": "rm(",
     "library": "var_list.r",
     "varRefreshCmd": "cat(var_dic_list()) "
    }
   },
   "types_to_exclude": [
    "module",
    "function",
    "builtin_function_or_method",
    "instance",
    "_Feature"
   ],
   "window_display": false
  }
 },
 "nbformat": 4,
 "nbformat_minor": 2
}
